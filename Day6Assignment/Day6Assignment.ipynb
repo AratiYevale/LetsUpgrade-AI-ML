{
 "cells": [
  {
   "cell_type": "markdown",
   "metadata": {},
   "source": [
    "Question 1: Assuming that we have some email addresses in the \"username@companyname.com\" format.please write a program to print the company name of the given email address.Both user names and company name are composed of letters only.<br>\n",
    "Input Format:<br>\n",
    "The first line of the input conatains an email address.<br>\n",
    "output:<br>\n",
    "Print the company name in single line.<br>\n",
    "Input:<br>\n",
    "abc@google.com<br>\n",
    "output:<br>\n",
    "google<br>"
   ]
  },
  {
   "cell_type": "code",
   "execution_count": 4,
   "metadata": {},
   "outputs": [
    {
     "name": "stdout",
     "output_type": "stream",
     "text": [
      "Enter Email Address: john@google.com\n",
      "google\n"
     ]
    }
   ],
   "source": [
    "email=input(\"Enter Email Address: \")\n",
    "spl1=email.split(\"@\")   #split on multiple characters at once\n",
    "spl2=spl1[1].split(\".\")\n",
    "print(spl2[0])"
   ]
  },
  {
   "cell_type": "markdown",
   "metadata": {},
   "source": [
    "Question 2: Write a program that accepts a comma-separated sequence of words as input and print the words in a comma separated sequence after sorting them alphabetically.<br>\n",
    "Input Format:<br>\n",
    "The first line of input contains words separated by comma.<br>\n",
    "Output Format:<br>\n",
    "Print the sorted words separated by the comma.<br>\n",
    "Example<br>\n",
    "Input:<br>\n",
    "without,hello,bag,world<br>\n",
    "Output:<br>\n",
    "bag,hello,without,world"
   ]
  },
  {
   "cell_type": "code",
   "execution_count": 5,
   "metadata": {},
   "outputs": [
    {
     "name": "stdout",
     "output_type": "stream",
     "text": [
      "bag,hello,without,world\n"
     ]
    }
   ],
   "source": [
    "inputs=\"without,hello,bag,world\"\n",
    "print(\",\".join(sorted(inputs.split(\",\"))))"
   ]
  },
  {
   "cell_type": "markdown",
   "metadata": {},
   "source": [
    "Question 3: Create your own jupyter notebook for sets.<br>\n",
    "Reference link: https://www.w3schools.com/python/python_sets.asp"
   ]
  },
  {
   "cell_type": "markdown",
   "metadata": {},
   "source": [
    "__Sets__ : A set is a collection which is unordered and unindexed. In Python sets are written with curly brackets."
   ]
  },
  {
   "cell_type": "code",
   "execution_count": 6,
   "metadata": {},
   "outputs": [
    {
     "name": "stdout",
     "output_type": "stream",
     "text": [
      "{'blue', 'pink', 'yellow', 'purple'}\n"
     ]
    }
   ],
   "source": [
    "#Create a sets\n",
    "set1={\"yellow\",\"pink\",\"blue\",\"purple\"}\n",
    "print(set1)"
   ]
  },
  {
   "cell_type": "code",
   "execution_count": 7,
   "metadata": {},
   "outputs": [
    {
     "name": "stdout",
     "output_type": "stream",
     "text": [
      "blue\n",
      "pink\n",
      "yellow\n",
      "purple\n"
     ]
    }
   ],
   "source": [
    "#Loop through the set, and print the values:\n",
    "set1={\"yellow\",\"pink\",\"blue\",\"purple\"}\n",
    "for i in set1:\n",
    "    print(i)   #set is unordered and unindexed."
   ]
  },
  {
   "cell_type": "code",
   "execution_count": 8,
   "metadata": {},
   "outputs": [
    {
     "name": "stdout",
     "output_type": "stream",
     "text": [
      "True\n"
     ]
    }
   ],
   "source": [
    "#set with memership operator in:\n",
    "set1={\"yellow\",\"pink\",\"blue\",\"purple\"}\n",
    "print(\"blue\" in set1)"
   ]
  },
  {
   "cell_type": "code",
   "execution_count": 10,
   "metadata": {},
   "outputs": [
    {
     "name": "stdout",
     "output_type": "stream",
     "text": [
      "{'pink', 'red', 'blue', 'yellow', 'purple'}\n"
     ]
    }
   ],
   "source": [
    "#To add one item to a set use the add() method.\n",
    "#Once a set is created, you cannot change its items, but you can add new items.\n",
    "set1={\"yellow\",\"pink\",\"blue\",\"purple\"}\n",
    "set1.add(\"red\")\n",
    "print(set1)"
   ]
  },
  {
   "cell_type": "code",
   "execution_count": 11,
   "metadata": {},
   "outputs": [
    {
     "name": "stdout",
     "output_type": "stream",
     "text": [
      "{'white', 'black', 'pink', 'blue', 'yellow', 'green', 'purple'}\n"
     ]
    }
   ],
   "source": [
    "#To add more than one item to a set use the update() method.\n",
    "set1={\"yellow\",\"pink\",\"blue\",\"purple\"}\n",
    "set1.update([\"black\", \"white\", \"green\"])\n",
    "print(set1)"
   ]
  },
  {
   "cell_type": "code",
   "execution_count": 12,
   "metadata": {},
   "outputs": [
    {
     "name": "stdout",
     "output_type": "stream",
     "text": [
      "3\n"
     ]
    }
   ],
   "source": [
    "#To determine how many items a set has, use the len() method.\n",
    "set2 = {\"apple\", \"banana\", \"cherry\"}\n",
    "print(len(set2))"
   ]
  },
  {
   "cell_type": "code",
   "execution_count": 13,
   "metadata": {},
   "outputs": [
    {
     "name": "stdout",
     "output_type": "stream",
     "text": [
      "{'cherry', 'apple'}\n"
     ]
    }
   ],
   "source": [
    "#To remove an item in a set, use the remove(), or the discard() method.\n",
    "# If the item to remove does not exist, remove() will raise an error.\n",
    "#Remove Method:\n",
    "set2 = {\"apple\", \"banana\", \"cherry\"}\n",
    "set2.remove(\"banana\")\n",
    "print(set2)"
   ]
  },
  {
   "cell_type": "code",
   "execution_count": 14,
   "metadata": {},
   "outputs": [
    {
     "name": "stdout",
     "output_type": "stream",
     "text": [
      "{'apple', 'mango'}\n"
     ]
    }
   ],
   "source": [
    "#discard Method:\n",
    "#If the item to remove does not exist, discard() will NOT raise an error.\n",
    "set2 = {\"apple\", \"mango\", \"cherry\"}\n",
    "set2.discard(\"cherry\")\n",
    "print(set2)"
   ]
  },
  {
   "cell_type": "code",
   "execution_count": 15,
   "metadata": {},
   "outputs": [
    {
     "name": "stdout",
     "output_type": "stream",
     "text": [
      "IT\n",
      "{123, 'arati', 'letsupgrade'}\n"
     ]
    }
   ],
   "source": [
    "#You can also use the pop(), method to remove an item, but this method will remove the last item.\n",
    "#Remember that sets are unordered, so you will not know what item that gets removed.\n",
    "#The return value of the pop() method is the removed item.\n",
    "set3 = {\"arati\", \"letsupgrade\", \"IT\",123}\n",
    "x = set3.pop()\n",
    "print(x)\n",
    "print(set3)"
   ]
  },
  {
   "cell_type": "code",
   "execution_count": 16,
   "metadata": {},
   "outputs": [
    {
     "name": "stdout",
     "output_type": "stream",
     "text": [
      "set()\n"
     ]
    }
   ],
   "source": [
    "#The clear() method empties the set:\n",
    "set4 = {156, \"letsupgrade\", \"Hii\",34.12}\n",
    "set4.clear()\n",
    "print(set4)"
   ]
  },
  {
   "cell_type": "code",
   "execution_count": 22,
   "metadata": {},
   "outputs": [
    {
     "name": "stdout",
     "output_type": "stream",
     "text": [
      "{1, 2, 'c', 3, 'a', 'b'}\n"
     ]
    }
   ],
   "source": [
    "#The union() method returns a new set with all items from both sets:\n",
    "set1 = {\"a\", \"b\" , \"c\"}\n",
    "set2 = {1, 2, 3}\n",
    "set3 = set1.union(set2)\n",
    "print(set3)"
   ]
  },
  {
   "cell_type": "code",
   "execution_count": 23,
   "metadata": {},
   "outputs": [
    {
     "name": "stdout",
     "output_type": "stream",
     "text": [
      "{123, 'abc', 'pyhton'}\n"
     ]
    }
   ],
   "source": [
    "#It is also possible to use the set() constructor to make a set.\n",
    "myset = set((\"abc\",123, \"pyhton\")) # note the double round-brackets\n",
    "print(myset)"
   ]
  },
  {
   "cell_type": "code",
   "execution_count": 27,
   "metadata": {},
   "outputs": [
    {
     "name": "stdout",
     "output_type": "stream",
     "text": [
      "{123, 'abc', 'pyhton'}\n"
     ]
    }
   ],
   "source": [
    "#set copy() method:\n",
    "myset = set((\"abc\",123, \"pyhton\"))\n",
    "x = myset.copy()\n",
    "print(x)"
   ]
  },
  {
   "cell_type": "code",
   "execution_count": 28,
   "metadata": {},
   "outputs": [
    {
     "name": "stdout",
     "output_type": "stream",
     "text": [
      "True\n"
     ]
    }
   ],
   "source": [
    "#set issubset method:\n",
    "#Return True if all items set x are present in set y:\n",
    "x = {\"a\", \"b\", \"c\"}\n",
    "y = {\"f\", \"e\", \"d\", \"c\", \"b\", \"a\"}\n",
    "z = x.issubset(y)\n",
    "print(z)"
   ]
  },
  {
   "cell_type": "code",
   "execution_count": 29,
   "metadata": {},
   "outputs": [
    {
     "name": "stdout",
     "output_type": "stream",
     "text": [
      "{'apple'}\n"
     ]
    }
   ],
   "source": [
    "#The intersection() method returns a set that contains the similarity between two or more sets.\n",
    "x = {\"apple\", \"banana\", \"cherry\"}\n",
    "y = {\"google\", \"microsoft\", \"apple\"}\n",
    "z = x.intersection(y)\n",
    "print(z)"
   ]
  },
  {
   "cell_type": "code",
   "execution_count": 30,
   "metadata": {},
   "outputs": [
    {
     "name": "stdout",
     "output_type": "stream",
     "text": [
      "True\n"
     ]
    }
   ],
   "source": [
    "#The issuperset() method returns True if all items in the specified set exists in the original set, otherwise it retuns False.\n",
    "x = {\"f\", \"e\", \"d\", \"c\", \"b\", \"a\"}\n",
    "y = {\"a\", \"b\", \"c\"}\n",
    "z = x.issuperset(y)\n",
    "print(z)"
   ]
  },
  {
   "cell_type": "code",
   "execution_count": 31,
   "metadata": {},
   "outputs": [
    {
     "name": "stdout",
     "output_type": "stream",
     "text": [
      "True\n"
     ]
    }
   ],
   "source": [
    "#The isdisjoint() method returns True if none of the items are present in both sets, otherwise it returns False.\n",
    "x = {\"apple\", \"banana\", \"cherry\"}\n",
    "y = {\"google\", \"microsoft\", \"facebook\"}\n",
    "z = x.isdisjoint(y)\n",
    "print(z)"
   ]
  },
  {
   "cell_type": "markdown",
   "metadata": {},
   "source": [
    "Question 4: Given a list of n-1 numbers ranging from 1 to n, your task is to find the missing number.There are no duplicates.\n",
    "Input Format:<br>\n",
    "The first line contains n-1 numbers with each number separated by space.<br>\n",
    "Output Format:<br>\n",
    "Print the missing number.<br>\n",
    "Example<br>\n",
    "Input:1 2 4 6 3 7 8<br>\n",
    "Output:5<br>\n",
    "Explanation:<br>\n",
    "In the above list of numbers 5 is missing and hence 5 is output."
   ]
  },
  {
   "cell_type": "code",
   "execution_count": 25,
   "metadata": {},
   "outputs": [
    {
     "name": "stdout",
     "output_type": "stream",
     "text": [
      "5\n"
     ]
    }
   ],
   "source": [
    "def find(n): \n",
    "    for i in range(n[0], n[-1]+1):\n",
    "        if i not in n:\n",
    "            return i\n",
    "        \n",
    "n = [1,2,4,6,3,7,8]\n",
    "print(find(n))"
   ]
  },
  {
   "cell_type": "markdown",
   "metadata": {},
   "source": [
    "Question 5: With a given list L, Write a program to print this list L after removing all duplicates values with original order reserved.<br>\n",
    "Example:<br>\n",
    "If the input list is:<br>\n",
    "12 24 35 24 88 120 155 88 120 155<br>\n",
    "Then the output should be:<br>\n",
    "12 24 35 88 120 155<br>\n",
    "Explanation:<br>\n",
    "Third,seventh and ninth element of list L has been removed because it was already present.<br>\n",
    "Input Format:<br>\n",
    "In one line take the element of list L with each elemet separated by space.<br>\n",
    "Output Format:<br>\n",
    "Print the elements of the modified list in one line with each element separated by space.<br>"
   ]
  },
  {
   "cell_type": "code",
   "execution_count": 26,
   "metadata": {},
   "outputs": [
    {
     "name": "stdout",
     "output_type": "stream",
     "text": [
      "12 24 35 24 88 120 155 88 120 155\n",
      "[12, 24, 35, 88, 120, 155]\n"
     ]
    }
   ],
   "source": [
    "lst = [int(i) for i in input().split()]\n",
    "las2 = set(lst)\n",
    "result = list(las2)\n",
    "print(sorted(result))"
   ]
  },
  {
   "cell_type": "markdown",
   "metadata": {},
   "source": [
    "Thank You!!!"
   ]
  },
  {
   "cell_type": "code",
   "execution_count": null,
   "metadata": {},
   "outputs": [],
   "source": []
  }
 ],
 "metadata": {
  "kernelspec": {
   "display_name": "Python 3",
   "language": "python",
   "name": "python3"
  },
  "language_info": {
   "codemirror_mode": {
    "name": "ipython",
    "version": 3
   },
   "file_extension": ".py",
   "mimetype": "text/x-python",
   "name": "python",
   "nbconvert_exporter": "python",
   "pygments_lexer": "ipython3",
   "version": "3.7.6"
  }
 },
 "nbformat": 4,
 "nbformat_minor": 4
}
