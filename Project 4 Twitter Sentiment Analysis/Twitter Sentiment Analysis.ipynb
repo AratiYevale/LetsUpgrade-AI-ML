{
 "cells": [
  {
   "cell_type": "markdown",
   "metadata": {},
   "source": [
    "# Collecting the data using Twitter API and Analyzing the data."
   ]
  },
  {
   "cell_type": "code",
   "execution_count": 2,
   "metadata": {},
   "outputs": [
    {
     "name": "stdout",
     "output_type": "stream",
     "text": [
      "Collecting tweepy\n",
      "  Downloading tweepy-3.9.0-py2.py3-none-any.whl (30 kB)\n",
      "Collecting requests-oauthlib>=0.7.0\n",
      "  Downloading requests_oauthlib-1.3.0-py2.py3-none-any.whl (23 kB)\n",
      "Requirement already satisfied: six>=1.10.0 in c:\\users\\admin\\anaconda3\\lib\\site-packages (from tweepy) (1.14.0)\n",
      "Requirement already satisfied: requests[socks]>=2.11.1 in c:\\users\\admin\\anaconda3\\lib\\site-packages (from tweepy) (2.22.0)\n",
      "Collecting oauthlib>=3.0.0\n",
      "  Downloading oauthlib-3.1.0-py2.py3-none-any.whl (147 kB)\n",
      "Requirement already satisfied: urllib3!=1.25.0,!=1.25.1,<1.26,>=1.21.1 in c:\\users\\admin\\anaconda3\\lib\\site-packages (from requests[socks]>=2.11.1->tweepy) (1.25.8)\n",
      "Requirement already satisfied: certifi>=2017.4.17 in c:\\users\\admin\\anaconda3\\lib\\site-packages (from requests[socks]>=2.11.1->tweepy) (2019.11.28)\n",
      "Requirement already satisfied: idna<2.9,>=2.5 in c:\\users\\admin\\anaconda3\\lib\\site-packages (from requests[socks]>=2.11.1->tweepy) (2.8)\n",
      "Requirement already satisfied: chardet<3.1.0,>=3.0.2 in c:\\users\\admin\\anaconda3\\lib\\site-packages (from requests[socks]>=2.11.1->tweepy) (3.0.4)\n",
      "Requirement already satisfied: PySocks!=1.5.7,>=1.5.6; extra == \"socks\" in c:\\users\\admin\\anaconda3\\lib\\site-packages (from requests[socks]>=2.11.1->tweepy) (1.7.1)\n",
      "Installing collected packages: oauthlib, requests-oauthlib, tweepy\n",
      "Successfully installed oauthlib-3.1.0 requests-oauthlib-1.3.0 tweepy-3.9.0\n"
     ]
    }
   ],
   "source": [
    "!pip install tweepy"
   ]
  },
  {
   "cell_type": "code",
   "execution_count": 3,
   "metadata": {},
   "outputs": [],
   "source": [
    "# Importing Libraries\n",
    "import numpy as np\n",
    "import pandas as pd\n",
    "import tweepy\n",
    "import json\n",
    "from tweepy import OAuthHandler"
   ]
  },
  {
   "cell_type": "code",
   "execution_count": 4,
   "metadata": {},
   "outputs": [],
   "source": [
    "# Keys from the Twitter API\n",
    "consumer_key = \"LzsCOl12ZZ79FObx7BV9a1R3a\"\n",
    "consumer_secret = \"gODxZ1kHJHDGgYfyP12AUN37UTlDd6yn3OsSV9Tl0iwu0K0cRY\"\n",
    "access_token = \"296102538-kYIK8SULCmRK4vgvYD2DhKbwvSXrgTdTkWh0Nvsp\"\n",
    "access_token_secret = \"Ib9obwgcE5tZk4S6tY5rAqI5iXOeJc9FGFg28qHoa4YpP\""
   ]
  },
  {
   "cell_type": "code",
   "execution_count": 5,
   "metadata": {},
   "outputs": [],
   "source": [
    "# Authentication\n",
    "auth = tweepy.OAuthHandler( consumer_key , consumer_secret )\n",
    "auth.set_access_token( access_token , access_token_secret )\n",
    "api = tweepy.API(auth)"
   ]
  },
  {
   "cell_type": "code",
   "execution_count": 6,
   "metadata": {},
   "outputs": [
    {
     "name": "stdout",
     "output_type": "stream",
     "text": [
      "Status(_api=<tweepy.api.API object at 0x0000000008803948>, _json={'created_at': 'Sun Nov 01 08:04:58 +0000 2020', 'id': 1322811857078415360, 'id_str': '1322811857078415360', 'full_text': '@mipaltan @MahelaJay @ImZaheer Mumbai Indians will win this IPL !', 'truncated': False, 'display_text_range': [31, 65], 'entities': {'hashtags': [], 'symbols': [], 'user_mentions': [{'screen_name': 'mipaltan', 'name': 'Mumbai Indians', 'id': 106345557, 'id_str': '106345557', 'indices': [0, 9]}, {'screen_name': 'MahelaJay', 'name': 'Mahela Jayawardena', 'id': 350334760, 'id_str': '350334760', 'indices': [10, 20]}, {'screen_name': 'ImZaheer', 'name': 'zaheer khan', 'id': 109275593, 'id_str': '109275593', 'indices': [21, 30]}], 'urls': []}, 'metadata': {'iso_language_code': 'en', 'result_type': 'recent'}, 'source': '<a href=\"http://twitter.com/download/iphone\" rel=\"nofollow\">Twitter for iPhone</a>', 'in_reply_to_status_id': 1322810688213905412, 'in_reply_to_status_id_str': '1322810688213905412', 'in_reply_to_user_id': 106345557, 'in_reply_to_user_id_str': '106345557', 'in_reply_to_screen_name': 'mipaltan', 'user': {'id': 1308345202751336450, 'id_str': '1308345202751336450', 'name': 'Kumar', 'screen_name': 'Kumar53472682', 'location': '', 'description': 'Fond of Information', 'url': None, 'entities': {'description': {'urls': []}}, 'protected': False, 'followers_count': 0, 'friends_count': 14, 'listed_count': 0, 'created_at': 'Tue Sep 22 10:00:38 +0000 2020', 'favourites_count': 37, 'utc_offset': None, 'time_zone': None, 'geo_enabled': False, 'verified': False, 'statuses_count': 41, 'lang': None, 'contributors_enabled': False, 'is_translator': False, 'is_translation_enabled': False, 'profile_background_color': 'F5F8FA', 'profile_background_image_url': None, 'profile_background_image_url_https': None, 'profile_background_tile': False, 'profile_image_url': 'http://pbs.twimg.com/profile_images/1311611944021815297/bh1AiIwI_normal.jpg', 'profile_image_url_https': 'https://pbs.twimg.com/profile_images/1311611944021815297/bh1AiIwI_normal.jpg', 'profile_banner_url': 'https://pbs.twimg.com/profile_banners/1308345202751336450/1601547494', 'profile_link_color': '1DA1F2', 'profile_sidebar_border_color': 'C0DEED', 'profile_sidebar_fill_color': 'DDEEF6', 'profile_text_color': '333333', 'profile_use_background_image': True, 'has_extended_profile': True, 'default_profile': True, 'default_profile_image': False, 'following': False, 'follow_request_sent': False, 'notifications': False, 'translator_type': 'none'}, 'geo': None, 'coordinates': None, 'place': None, 'contributors': None, 'is_quote_status': False, 'retweet_count': 0, 'favorite_count': 2, 'favorited': False, 'retweeted': False, 'lang': 'en'}, created_at=datetime.datetime(2020, 11, 1, 8, 4, 58), id=1322811857078415360, id_str='1322811857078415360', full_text='@mipaltan @MahelaJay @ImZaheer Mumbai Indians will win this IPL !', truncated=False, display_text_range=[31, 65], entities={'hashtags': [], 'symbols': [], 'user_mentions': [{'screen_name': 'mipaltan', 'name': 'Mumbai Indians', 'id': 106345557, 'id_str': '106345557', 'indices': [0, 9]}, {'screen_name': 'MahelaJay', 'name': 'Mahela Jayawardena', 'id': 350334760, 'id_str': '350334760', 'indices': [10, 20]}, {'screen_name': 'ImZaheer', 'name': 'zaheer khan', 'id': 109275593, 'id_str': '109275593', 'indices': [21, 30]}], 'urls': []}, metadata={'iso_language_code': 'en', 'result_type': 'recent'}, source='Twitter for iPhone', source_url='http://twitter.com/download/iphone', in_reply_to_status_id=1322810688213905412, in_reply_to_status_id_str='1322810688213905412', in_reply_to_user_id=106345557, in_reply_to_user_id_str='106345557', in_reply_to_screen_name='mipaltan', author=User(_api=<tweepy.api.API object at 0x0000000008803948>, _json={'id': 1308345202751336450, 'id_str': '1308345202751336450', 'name': 'Kumar', 'screen_name': 'Kumar53472682', 'location': '', 'description': 'Fond of Information', 'url': None, 'entities': {'description': {'urls': []}}, 'protected': False, 'followers_count': 0, 'friends_count': 14, 'listed_count': 0, 'created_at': 'Tue Sep 22 10:00:38 +0000 2020', 'favourites_count': 37, 'utc_offset': None, 'time_zone': None, 'geo_enabled': False, 'verified': False, 'statuses_count': 41, 'lang': None, 'contributors_enabled': False, 'is_translator': False, 'is_translation_enabled': False, 'profile_background_color': 'F5F8FA', 'profile_background_image_url': None, 'profile_background_image_url_https': None, 'profile_background_tile': False, 'profile_image_url': 'http://pbs.twimg.com/profile_images/1311611944021815297/bh1AiIwI_normal.jpg', 'profile_image_url_https': 'https://pbs.twimg.com/profile_images/1311611944021815297/bh1AiIwI_normal.jpg', 'profile_banner_url': 'https://pbs.twimg.com/profile_banners/1308345202751336450/1601547494', 'profile_link_color': '1DA1F2', 'profile_sidebar_border_color': 'C0DEED', 'profile_sidebar_fill_color': 'DDEEF6', 'profile_text_color': '333333', 'profile_use_background_image': True, 'has_extended_profile': True, 'default_profile': True, 'default_profile_image': False, 'following': False, 'follow_request_sent': False, 'notifications': False, 'translator_type': 'none'}, id=1308345202751336450, id_str='1308345202751336450', name='Kumar', screen_name='Kumar53472682', location='', description='Fond of Information', url=None, entities={'description': {'urls': []}}, protected=False, followers_count=0, friends_count=14, listed_count=0, created_at=datetime.datetime(2020, 9, 22, 10, 0, 38), favourites_count=37, utc_offset=None, time_zone=None, geo_enabled=False, verified=False, statuses_count=41, lang=None, contributors_enabled=False, is_translator=False, is_translation_enabled=False, profile_background_color='F5F8FA', profile_background_image_url=None, profile_background_image_url_https=None, profile_background_tile=False, profile_image_url='http://pbs.twimg.com/profile_images/1311611944021815297/bh1AiIwI_normal.jpg', profile_image_url_https='https://pbs.twimg.com/profile_images/1311611944021815297/bh1AiIwI_normal.jpg', profile_banner_url='https://pbs.twimg.com/profile_banners/1308345202751336450/1601547494', profile_link_color='1DA1F2', profile_sidebar_border_color='C0DEED', profile_sidebar_fill_color='DDEEF6', profile_text_color='333333', profile_use_background_image=True, has_extended_profile=True, default_profile=True, default_profile_image=False, following=False, follow_request_sent=False, notifications=False, translator_type='none'), user=User(_api=<tweepy.api.API object at 0x0000000008803948>, _json={'id': 1308345202751336450, 'id_str': '1308345202751336450', 'name': 'Kumar', 'screen_name': 'Kumar53472682', 'location': '', 'description': 'Fond of Information', 'url': None, 'entities': {'description': {'urls': []}}, 'protected': False, 'followers_count': 0, 'friends_count': 14, 'listed_count': 0, 'created_at': 'Tue Sep 22 10:00:38 +0000 2020', 'favourites_count': 37, 'utc_offset': None, 'time_zone': None, 'geo_enabled': False, 'verified': False, 'statuses_count': 41, 'lang': None, 'contributors_enabled': False, 'is_translator': False, 'is_translation_enabled': False, 'profile_background_color': 'F5F8FA', 'profile_background_image_url': None, 'profile_background_image_url_https': None, 'profile_background_tile': False, 'profile_image_url': 'http://pbs.twimg.com/profile_images/1311611944021815297/bh1AiIwI_normal.jpg', 'profile_image_url_https': 'https://pbs.twimg.com/profile_images/1311611944021815297/bh1AiIwI_normal.jpg', 'profile_banner_url': 'https://pbs.twimg.com/profile_banners/1308345202751336450/1601547494', 'profile_link_color': '1DA1F2', 'profile_sidebar_border_color': 'C0DEED', 'profile_sidebar_fill_color': 'DDEEF6', 'profile_text_color': '333333', 'profile_use_background_image': True, 'has_extended_profile': True, 'default_profile': True, 'default_profile_image': False, 'following': False, 'follow_request_sent': False, 'notifications': False, 'translator_type': 'none'}, id=1308345202751336450, id_str='1308345202751336450', name='Kumar', screen_name='Kumar53472682', location='', description='Fond of Information', url=None, entities={'description': {'urls': []}}, protected=False, followers_count=0, friends_count=14, listed_count=0, created_at=datetime.datetime(2020, 9, 22, 10, 0, 38), favourites_count=37, utc_offset=None, time_zone=None, geo_enabled=False, verified=False, statuses_count=41, lang=None, contributors_enabled=False, is_translator=False, is_translation_enabled=False, profile_background_color='F5F8FA', profile_background_image_url=None, profile_background_image_url_https=None, profile_background_tile=False, profile_image_url='http://pbs.twimg.com/profile_images/1311611944021815297/bh1AiIwI_normal.jpg', profile_image_url_https='https://pbs.twimg.com/profile_images/1311611944021815297/bh1AiIwI_normal.jpg', profile_banner_url='https://pbs.twimg.com/profile_banners/1308345202751336450/1601547494', profile_link_color='1DA1F2', profile_sidebar_border_color='C0DEED', profile_sidebar_fill_color='DDEEF6', profile_text_color='333333', profile_use_background_image=True, has_extended_profile=True, default_profile=True, default_profile_image=False, following=False, follow_request_sent=False, notifications=False, translator_type='none'), geo=None, coordinates=None, place=None, contributors=None, is_quote_status=False, retweet_count=0, favorite_count=2, favorited=False, retweeted=False, lang='en') \n",
      "\n",
      ".....................................\n",
      "\n",
      "Status(_api=<tweepy.api.API object at 0x0000000008803948>, _json={'created_at': 'Sat Oct 31 17:35:26 +0000 2020', 'id': 1322593034962300928, 'id_str': '1322593034962300928', 'full_text': \"Sunrisers Hyderabad have the upper hand as they have the best run rate among the other teams in the race for qualifying. Gotta win the last match of IPL, against Mumbai Indians, and SRH will qualify. I'm rooting for #SRH!\\n\\n#RCBvSRH #RCBvsSRH #SRHvsRCB #SRHvRCB #IPL2020\", 'truncated': False, 'display_text_range': [0, 269], 'entities': {'hashtags': [{'text': 'SRH', 'indices': [216, 220]}, {'text': 'RCBvSRH', 'indices': [223, 231]}, {'text': 'RCBvsSRH', 'indices': [232, 241]}, {'text': 'SRHvsRCB', 'indices': [242, 251]}, {'text': 'SRHvRCB', 'indices': [252, 260]}, {'text': 'IPL2020', 'indices': [261, 269]}], 'symbols': [], 'user_mentions': [], 'urls': []}, 'metadata': {'iso_language_code': 'en', 'result_type': 'recent'}, 'source': '<a href=\"http://twitter.com/download/android\" rel=\"nofollow\">Twitter for Android</a>', 'in_reply_to_status_id': None, 'in_reply_to_status_id_str': None, 'in_reply_to_user_id': None, 'in_reply_to_user_id_str': None, 'in_reply_to_screen_name': None, 'user': {'id': 3593913912, 'id_str': '3593913912', 'name': 'Smriti Sinha', 'screen_name': 'smritisinha99', 'location': 'Somewhere I Belong', 'description': 'CRICKET is my RELIGION, SACHIN is my GOD | Ashwin | Rahane | Dhoni | Linkin Park | Eminem | Taylor Swift | 1R | Gryffindor🦁', 'url': 'https://t.co/vCR1Fwy80r', 'entities': {'url': {'urls': [{'url': 'https://t.co/vCR1Fwy80r', 'expanded_url': 'https://smritisinhawriting.poetry.blog/', 'display_url': 'smritisinhawriting.poetry.blog', 'indices': [0, 23]}]}, 'description': {'urls': []}}, 'protected': False, 'followers_count': 2042, 'friends_count': 989, 'listed_count': 5, 'created_at': 'Thu Sep 17 12:45:35 +0000 2015', 'favourites_count': 17822, 'utc_offset': None, 'time_zone': None, 'geo_enabled': True, 'verified': False, 'statuses_count': 33951, 'lang': None, 'contributors_enabled': False, 'is_translator': False, 'is_translation_enabled': False, 'profile_background_color': 'C0DEED', 'profile_background_image_url': 'http://abs.twimg.com/images/themes/theme1/bg.png', 'profile_background_image_url_https': 'https://abs.twimg.com/images/themes/theme1/bg.png', 'profile_background_tile': False, 'profile_image_url': 'http://pbs.twimg.com/profile_images/1321396176629895169/1y1SwugO_normal.jpg', 'profile_image_url_https': 'https://pbs.twimg.com/profile_images/1321396176629895169/1y1SwugO_normal.jpg', 'profile_banner_url': 'https://pbs.twimg.com/profile_banners/3593913912/1586707028', 'profile_link_color': '1DA1F2', 'profile_sidebar_border_color': 'C0DEED', 'profile_sidebar_fill_color': 'DDEEF6', 'profile_text_color': '333333', 'profile_use_background_image': True, 'has_extended_profile': True, 'default_profile': True, 'default_profile_image': False, 'following': False, 'follow_request_sent': False, 'notifications': False, 'translator_type': 'none'}, 'geo': None, 'coordinates': None, 'place': None, 'contributors': None, 'is_quote_status': False, 'retweet_count': 1, 'favorite_count': 8, 'favorited': False, 'retweeted': False, 'lang': 'en'}, created_at=datetime.datetime(2020, 10, 31, 17, 35, 26), id=1322593034962300928, id_str='1322593034962300928', full_text=\"Sunrisers Hyderabad have the upper hand as they have the best run rate among the other teams in the race for qualifying. Gotta win the last match of IPL, against Mumbai Indians, and SRH will qualify. I'm rooting for #SRH!\\n\\n#RCBvSRH #RCBvsSRH #SRHvsRCB #SRHvRCB #IPL2020\", truncated=False, display_text_range=[0, 269], entities={'hashtags': [{'text': 'SRH', 'indices': [216, 220]}, {'text': 'RCBvSRH', 'indices': [223, 231]}, {'text': 'RCBvsSRH', 'indices': [232, 241]}, {'text': 'SRHvsRCB', 'indices': [242, 251]}, {'text': 'SRHvRCB', 'indices': [252, 260]}, {'text': 'IPL2020', 'indices': [261, 269]}], 'symbols': [], 'user_mentions': [], 'urls': []}, metadata={'iso_language_code': 'en', 'result_type': 'recent'}, source='Twitter for Android', source_url='http://twitter.com/download/android', in_reply_to_status_id=None, in_reply_to_status_id_str=None, in_reply_to_user_id=None, in_reply_to_user_id_str=None, in_reply_to_screen_name=None, author=User(_api=<tweepy.api.API object at 0x0000000008803948>, _json={'id': 3593913912, 'id_str': '3593913912', 'name': 'Smriti Sinha', 'screen_name': 'smritisinha99', 'location': 'Somewhere I Belong', 'description': 'CRICKET is my RELIGION, SACHIN is my GOD | Ashwin | Rahane | Dhoni | Linkin Park | Eminem | Taylor Swift | 1R | Gryffindor🦁', 'url': 'https://t.co/vCR1Fwy80r', 'entities': {'url': {'urls': [{'url': 'https://t.co/vCR1Fwy80r', 'expanded_url': 'https://smritisinhawriting.poetry.blog/', 'display_url': 'smritisinhawriting.poetry.blog', 'indices': [0, 23]}]}, 'description': {'urls': []}}, 'protected': False, 'followers_count': 2042, 'friends_count': 989, 'listed_count': 5, 'created_at': 'Thu Sep 17 12:45:35 +0000 2015', 'favourites_count': 17822, 'utc_offset': None, 'time_zone': None, 'geo_enabled': True, 'verified': False, 'statuses_count': 33951, 'lang': None, 'contributors_enabled': False, 'is_translator': False, 'is_translation_enabled': False, 'profile_background_color': 'C0DEED', 'profile_background_image_url': 'http://abs.twimg.com/images/themes/theme1/bg.png', 'profile_background_image_url_https': 'https://abs.twimg.com/images/themes/theme1/bg.png', 'profile_background_tile': False, 'profile_image_url': 'http://pbs.twimg.com/profile_images/1321396176629895169/1y1SwugO_normal.jpg', 'profile_image_url_https': 'https://pbs.twimg.com/profile_images/1321396176629895169/1y1SwugO_normal.jpg', 'profile_banner_url': 'https://pbs.twimg.com/profile_banners/3593913912/1586707028', 'profile_link_color': '1DA1F2', 'profile_sidebar_border_color': 'C0DEED', 'profile_sidebar_fill_color': 'DDEEF6', 'profile_text_color': '333333', 'profile_use_background_image': True, 'has_extended_profile': True, 'default_profile': True, 'default_profile_image': False, 'following': False, 'follow_request_sent': False, 'notifications': False, 'translator_type': 'none'}, id=3593913912, id_str='3593913912', name='Smriti Sinha', screen_name='smritisinha99', location='Somewhere I Belong', description='CRICKET is my RELIGION, SACHIN is my GOD | Ashwin | Rahane | Dhoni | Linkin Park | Eminem | Taylor Swift | 1R | Gryffindor🦁', url='https://t.co/vCR1Fwy80r', entities={'url': {'urls': [{'url': 'https://t.co/vCR1Fwy80r', 'expanded_url': 'https://smritisinhawriting.poetry.blog/', 'display_url': 'smritisinhawriting.poetry.blog', 'indices': [0, 23]}]}, 'description': {'urls': []}}, protected=False, followers_count=2042, friends_count=989, listed_count=5, created_at=datetime.datetime(2015, 9, 17, 12, 45, 35), favourites_count=17822, utc_offset=None, time_zone=None, geo_enabled=True, verified=False, statuses_count=33951, lang=None, contributors_enabled=False, is_translator=False, is_translation_enabled=False, profile_background_color='C0DEED', profile_background_image_url='http://abs.twimg.com/images/themes/theme1/bg.png', profile_background_image_url_https='https://abs.twimg.com/images/themes/theme1/bg.png', profile_background_tile=False, profile_image_url='http://pbs.twimg.com/profile_images/1321396176629895169/1y1SwugO_normal.jpg', profile_image_url_https='https://pbs.twimg.com/profile_images/1321396176629895169/1y1SwugO_normal.jpg', profile_banner_url='https://pbs.twimg.com/profile_banners/3593913912/1586707028', profile_link_color='1DA1F2', profile_sidebar_border_color='C0DEED', profile_sidebar_fill_color='DDEEF6', profile_text_color='333333', profile_use_background_image=True, has_extended_profile=True, default_profile=True, default_profile_image=False, following=False, follow_request_sent=False, notifications=False, translator_type='none'), user=User(_api=<tweepy.api.API object at 0x0000000008803948>, _json={'id': 3593913912, 'id_str': '3593913912', 'name': 'Smriti Sinha', 'screen_name': 'smritisinha99', 'location': 'Somewhere I Belong', 'description': 'CRICKET is my RELIGION, SACHIN is my GOD | Ashwin | Rahane | Dhoni | Linkin Park | Eminem | Taylor Swift | 1R | Gryffindor🦁', 'url': 'https://t.co/vCR1Fwy80r', 'entities': {'url': {'urls': [{'url': 'https://t.co/vCR1Fwy80r', 'expanded_url': 'https://smritisinhawriting.poetry.blog/', 'display_url': 'smritisinhawriting.poetry.blog', 'indices': [0, 23]}]}, 'description': {'urls': []}}, 'protected': False, 'followers_count': 2042, 'friends_count': 989, 'listed_count': 5, 'created_at': 'Thu Sep 17 12:45:35 +0000 2015', 'favourites_count': 17822, 'utc_offset': None, 'time_zone': None, 'geo_enabled': True, 'verified': False, 'statuses_count': 33951, 'lang': None, 'contributors_enabled': False, 'is_translator': False, 'is_translation_enabled': False, 'profile_background_color': 'C0DEED', 'profile_background_image_url': 'http://abs.twimg.com/images/themes/theme1/bg.png', 'profile_background_image_url_https': 'https://abs.twimg.com/images/themes/theme1/bg.png', 'profile_background_tile': False, 'profile_image_url': 'http://pbs.twimg.com/profile_images/1321396176629895169/1y1SwugO_normal.jpg', 'profile_image_url_https': 'https://pbs.twimg.com/profile_images/1321396176629895169/1y1SwugO_normal.jpg', 'profile_banner_url': 'https://pbs.twimg.com/profile_banners/3593913912/1586707028', 'profile_link_color': '1DA1F2', 'profile_sidebar_border_color': 'C0DEED', 'profile_sidebar_fill_color': 'DDEEF6', 'profile_text_color': '333333', 'profile_use_background_image': True, 'has_extended_profile': True, 'default_profile': True, 'default_profile_image': False, 'following': False, 'follow_request_sent': False, 'notifications': False, 'translator_type': 'none'}, id=3593913912, id_str='3593913912', name='Smriti Sinha', screen_name='smritisinha99', location='Somewhere I Belong', description='CRICKET is my RELIGION, SACHIN is my GOD | Ashwin | Rahane | Dhoni | Linkin Park | Eminem | Taylor Swift | 1R | Gryffindor🦁', url='https://t.co/vCR1Fwy80r', entities={'url': {'urls': [{'url': 'https://t.co/vCR1Fwy80r', 'expanded_url': 'https://smritisinhawriting.poetry.blog/', 'display_url': 'smritisinhawriting.poetry.blog', 'indices': [0, 23]}]}, 'description': {'urls': []}}, protected=False, followers_count=2042, friends_count=989, listed_count=5, created_at=datetime.datetime(2015, 9, 17, 12, 45, 35), favourites_count=17822, utc_offset=None, time_zone=None, geo_enabled=True, verified=False, statuses_count=33951, lang=None, contributors_enabled=False, is_translator=False, is_translation_enabled=False, profile_background_color='C0DEED', profile_background_image_url='http://abs.twimg.com/images/themes/theme1/bg.png', profile_background_image_url_https='https://abs.twimg.com/images/themes/theme1/bg.png', profile_background_tile=False, profile_image_url='http://pbs.twimg.com/profile_images/1321396176629895169/1y1SwugO_normal.jpg', profile_image_url_https='https://pbs.twimg.com/profile_images/1321396176629895169/1y1SwugO_normal.jpg', profile_banner_url='https://pbs.twimg.com/profile_banners/3593913912/1586707028', profile_link_color='1DA1F2', profile_sidebar_border_color='C0DEED', profile_sidebar_fill_color='DDEEF6', profile_text_color='333333', profile_use_background_image=True, has_extended_profile=True, default_profile=True, default_profile_image=False, following=False, follow_request_sent=False, notifications=False, translator_type='none'), geo=None, coordinates=None, place=None, contributors=None, is_quote_status=False, retweet_count=1, favorite_count=8, favorited=False, retweeted=False, lang='en') \n",
      "\n",
      ".....................................\n",
      "\n",
      "Status(_api=<tweepy.api.API object at 0x0000000008803948>, _json={'created_at': 'Sat Oct 31 17:18:49 +0000 2020', 'id': 1322588853627056128, 'id_str': '1322588853627056128', 'full_text': 'Mumbai Indians will win this year IPL already fixed by Ambani why you guys waste your time on fixed league like @ipl #RCBvsSRH', 'truncated': False, 'display_text_range': [0, 126], 'entities': {'hashtags': [{'text': 'RCBvsSRH', 'indices': [117, 126]}], 'symbols': [], 'user_mentions': [{'screen_name': 'IPL', 'name': 'IndianPremierLeague', 'id': 15639696, 'id_str': '15639696', 'indices': [112, 116]}], 'urls': []}, 'metadata': {'iso_language_code': 'en', 'result_type': 'recent'}, 'source': '<a href=\"http://www.tweetcaster.com\" rel=\"nofollow\">TweetCaster for Android</a>', 'in_reply_to_status_id': None, 'in_reply_to_status_id_str': None, 'in_reply_to_user_id': None, 'in_reply_to_user_id_str': None, 'in_reply_to_screen_name': None, 'user': {'id': 1322203737419440128, 'id_str': '1322203737419440128', 'name': 'RISHABH SAHU', 'screen_name': 'RISHABH73458204', 'location': '', 'description': 'Nomad', 'url': None, 'entities': {'description': {'urls': []}}, 'protected': False, 'followers_count': 2, 'friends_count': 22, 'listed_count': 0, 'created_at': 'Fri Oct 30 15:48:46 +0000 2020', 'favourites_count': 0, 'utc_offset': None, 'time_zone': None, 'geo_enabled': False, 'verified': False, 'statuses_count': 9, 'lang': None, 'contributors_enabled': False, 'is_translator': False, 'is_translation_enabled': False, 'profile_background_color': 'F5F8FA', 'profile_background_image_url': None, 'profile_background_image_url_https': None, 'profile_background_tile': False, 'profile_image_url': 'http://pbs.twimg.com/profile_images/1322213968966942726/S769benG_normal.jpg', 'profile_image_url_https': 'https://pbs.twimg.com/profile_images/1322213968966942726/S769benG_normal.jpg', 'profile_link_color': '1DA1F2', 'profile_sidebar_border_color': 'C0DEED', 'profile_sidebar_fill_color': 'DDEEF6', 'profile_text_color': '333333', 'profile_use_background_image': True, 'has_extended_profile': True, 'default_profile': True, 'default_profile_image': False, 'following': False, 'follow_request_sent': False, 'notifications': False, 'translator_type': 'none'}, 'geo': None, 'coordinates': None, 'place': None, 'contributors': None, 'is_quote_status': False, 'retweet_count': 0, 'favorite_count': 0, 'favorited': False, 'retweeted': False, 'lang': 'en'}, created_at=datetime.datetime(2020, 10, 31, 17, 18, 49), id=1322588853627056128, id_str='1322588853627056128', full_text='Mumbai Indians will win this year IPL already fixed by Ambani why you guys waste your time on fixed league like @ipl #RCBvsSRH', truncated=False, display_text_range=[0, 126], entities={'hashtags': [{'text': 'RCBvsSRH', 'indices': [117, 126]}], 'symbols': [], 'user_mentions': [{'screen_name': 'IPL', 'name': 'IndianPremierLeague', 'id': 15639696, 'id_str': '15639696', 'indices': [112, 116]}], 'urls': []}, metadata={'iso_language_code': 'en', 'result_type': 'recent'}, source='TweetCaster for Android', source_url='http://www.tweetcaster.com', in_reply_to_status_id=None, in_reply_to_status_id_str=None, in_reply_to_user_id=None, in_reply_to_user_id_str=None, in_reply_to_screen_name=None, author=User(_api=<tweepy.api.API object at 0x0000000008803948>, _json={'id': 1322203737419440128, 'id_str': '1322203737419440128', 'name': 'RISHABH SAHU', 'screen_name': 'RISHABH73458204', 'location': '', 'description': 'Nomad', 'url': None, 'entities': {'description': {'urls': []}}, 'protected': False, 'followers_count': 2, 'friends_count': 22, 'listed_count': 0, 'created_at': 'Fri Oct 30 15:48:46 +0000 2020', 'favourites_count': 0, 'utc_offset': None, 'time_zone': None, 'geo_enabled': False, 'verified': False, 'statuses_count': 9, 'lang': None, 'contributors_enabled': False, 'is_translator': False, 'is_translation_enabled': False, 'profile_background_color': 'F5F8FA', 'profile_background_image_url': None, 'profile_background_image_url_https': None, 'profile_background_tile': False, 'profile_image_url': 'http://pbs.twimg.com/profile_images/1322213968966942726/S769benG_normal.jpg', 'profile_image_url_https': 'https://pbs.twimg.com/profile_images/1322213968966942726/S769benG_normal.jpg', 'profile_link_color': '1DA1F2', 'profile_sidebar_border_color': 'C0DEED', 'profile_sidebar_fill_color': 'DDEEF6', 'profile_text_color': '333333', 'profile_use_background_image': True, 'has_extended_profile': True, 'default_profile': True, 'default_profile_image': False, 'following': False, 'follow_request_sent': False, 'notifications': False, 'translator_type': 'none'}, id=1322203737419440128, id_str='1322203737419440128', name='RISHABH SAHU', screen_name='RISHABH73458204', location='', description='Nomad', url=None, entities={'description': {'urls': []}}, protected=False, followers_count=2, friends_count=22, listed_count=0, created_at=datetime.datetime(2020, 10, 30, 15, 48, 46), favourites_count=0, utc_offset=None, time_zone=None, geo_enabled=False, verified=False, statuses_count=9, lang=None, contributors_enabled=False, is_translator=False, is_translation_enabled=False, profile_background_color='F5F8FA', profile_background_image_url=None, profile_background_image_url_https=None, profile_background_tile=False, profile_image_url='http://pbs.twimg.com/profile_images/1322213968966942726/S769benG_normal.jpg', profile_image_url_https='https://pbs.twimg.com/profile_images/1322213968966942726/S769benG_normal.jpg', profile_link_color='1DA1F2', profile_sidebar_border_color='C0DEED', profile_sidebar_fill_color='DDEEF6', profile_text_color='333333', profile_use_background_image=True, has_extended_profile=True, default_profile=True, default_profile_image=False, following=False, follow_request_sent=False, notifications=False, translator_type='none'), user=User(_api=<tweepy.api.API object at 0x0000000008803948>, _json={'id': 1322203737419440128, 'id_str': '1322203737419440128', 'name': 'RISHABH SAHU', 'screen_name': 'RISHABH73458204', 'location': '', 'description': 'Nomad', 'url': None, 'entities': {'description': {'urls': []}}, 'protected': False, 'followers_count': 2, 'friends_count': 22, 'listed_count': 0, 'created_at': 'Fri Oct 30 15:48:46 +0000 2020', 'favourites_count': 0, 'utc_offset': None, 'time_zone': None, 'geo_enabled': False, 'verified': False, 'statuses_count': 9, 'lang': None, 'contributors_enabled': False, 'is_translator': False, 'is_translation_enabled': False, 'profile_background_color': 'F5F8FA', 'profile_background_image_url': None, 'profile_background_image_url_https': None, 'profile_background_tile': False, 'profile_image_url': 'http://pbs.twimg.com/profile_images/1322213968966942726/S769benG_normal.jpg', 'profile_image_url_https': 'https://pbs.twimg.com/profile_images/1322213968966942726/S769benG_normal.jpg', 'profile_link_color': '1DA1F2', 'profile_sidebar_border_color': 'C0DEED', 'profile_sidebar_fill_color': 'DDEEF6', 'profile_text_color': '333333', 'profile_use_background_image': True, 'has_extended_profile': True, 'default_profile': True, 'default_profile_image': False, 'following': False, 'follow_request_sent': False, 'notifications': False, 'translator_type': 'none'}, id=1322203737419440128, id_str='1322203737419440128', name='RISHABH SAHU', screen_name='RISHABH73458204', location='', description='Nomad', url=None, entities={'description': {'urls': []}}, protected=False, followers_count=2, friends_count=22, listed_count=0, created_at=datetime.datetime(2020, 10, 30, 15, 48, 46), favourites_count=0, utc_offset=None, time_zone=None, geo_enabled=False, verified=False, statuses_count=9, lang=None, contributors_enabled=False, is_translator=False, is_translation_enabled=False, profile_background_color='F5F8FA', profile_background_image_url=None, profile_background_image_url_https=None, profile_background_tile=False, profile_image_url='http://pbs.twimg.com/profile_images/1322213968966942726/S769benG_normal.jpg', profile_image_url_https='https://pbs.twimg.com/profile_images/1322213968966942726/S769benG_normal.jpg', profile_link_color='1DA1F2', profile_sidebar_border_color='C0DEED', profile_sidebar_fill_color='DDEEF6', profile_text_color='333333', profile_use_background_image=True, has_extended_profile=True, default_profile=True, default_profile_image=False, following=False, follow_request_sent=False, notifications=False, translator_type='none'), geo=None, coordinates=None, place=None, contributors=None, is_quote_status=False, retweet_count=0, favorite_count=0, favorited=False, retweeted=False, lang='en') \n",
      "\n",
      ".....................................\n",
      "\n",
      "Status(_api=<tweepy.api.API object at 0x0000000008803948>, _json={'created_at': 'Sat Oct 31 14:00:45 +0000 2020', 'id': 1322539008728051712, 'id_str': '1322539008728051712', 'full_text': 'Delhi Capitals: We will win this match and top the points table.\\nMeanwhile Mumbai Indians:-\\n#DCvsMI #IPL https://t.co/auwQkWEVh6', 'truncated': False, 'display_text_range': [0, 104], 'entities': {'hashtags': [{'text': 'DCvsMI', 'indices': [92, 99]}, {'text': 'IPL', 'indices': [100, 104]}], 'symbols': [], 'user_mentions': [], 'urls': [], 'media': [{'id': 1322539004567252998, 'id_str': '1322539004567252998', 'indices': [105, 128], 'media_url': 'http://pbs.twimg.com/media/ElqaN7DUcAYx_g4.jpg', 'media_url_https': 'https://pbs.twimg.com/media/ElqaN7DUcAYx_g4.jpg', 'url': 'https://t.co/auwQkWEVh6', 'display_url': 'pic.twitter.com/auwQkWEVh6', 'expanded_url': 'https://twitter.com/shubhambest9305/status/1322539008728051712/photo/1', 'type': 'photo', 'sizes': {'thumb': {'w': 150, 'h': 150, 'resize': 'crop'}, 'large': {'w': 1055, 'h': 537, 'resize': 'fit'}, 'small': {'w': 680, 'h': 346, 'resize': 'fit'}, 'medium': {'w': 1055, 'h': 537, 'resize': 'fit'}}}]}, 'extended_entities': {'media': [{'id': 1322539004567252998, 'id_str': '1322539004567252998', 'indices': [105, 128], 'media_url': 'http://pbs.twimg.com/media/ElqaN7DUcAYx_g4.jpg', 'media_url_https': 'https://pbs.twimg.com/media/ElqaN7DUcAYx_g4.jpg', 'url': 'https://t.co/auwQkWEVh6', 'display_url': 'pic.twitter.com/auwQkWEVh6', 'expanded_url': 'https://twitter.com/shubhambest9305/status/1322539008728051712/photo/1', 'type': 'photo', 'sizes': {'thumb': {'w': 150, 'h': 150, 'resize': 'crop'}, 'large': {'w': 1055, 'h': 537, 'resize': 'fit'}, 'small': {'w': 680, 'h': 346, 'resize': 'fit'}, 'medium': {'w': 1055, 'h': 537, 'resize': 'fit'}}}]}, 'metadata': {'iso_language_code': 'en', 'result_type': 'recent'}, 'source': '<a href=\"http://twitter.com/download/android\" rel=\"nofollow\">Twitter for Android</a>', 'in_reply_to_status_id': None, 'in_reply_to_status_id_str': None, 'in_reply_to_user_id': None, 'in_reply_to_user_id_str': None, 'in_reply_to_screen_name': None, 'user': {'id': 1078619210400464897, 'id_str': '1078619210400464897', 'name': 'shubham2345', 'screen_name': 'shubhambest9305', 'location': '', 'description': '', 'url': None, 'entities': {'description': {'urls': []}}, 'protected': False, 'followers_count': 2, 'friends_count': 24, 'listed_count': 0, 'created_at': 'Fri Dec 28 11:50:34 +0000 2018', 'favourites_count': 92, 'utc_offset': None, 'time_zone': None, 'geo_enabled': False, 'verified': False, 'statuses_count': 285, 'lang': None, 'contributors_enabled': False, 'is_translator': False, 'is_translation_enabled': False, 'profile_background_color': 'F5F8FA', 'profile_background_image_url': None, 'profile_background_image_url_https': None, 'profile_background_tile': False, 'profile_image_url': 'http://pbs.twimg.com/profile_images/1302848402128920579/nmvlbcja_normal.jpg', 'profile_image_url_https': 'https://pbs.twimg.com/profile_images/1302848402128920579/nmvlbcja_normal.jpg', 'profile_link_color': '1DA1F2', 'profile_sidebar_border_color': 'C0DEED', 'profile_sidebar_fill_color': 'DDEEF6', 'profile_text_color': '333333', 'profile_use_background_image': True, 'has_extended_profile': False, 'default_profile': True, 'default_profile_image': False, 'following': False, 'follow_request_sent': False, 'notifications': False, 'translator_type': 'none'}, 'geo': None, 'coordinates': None, 'place': None, 'contributors': None, 'is_quote_status': False, 'retweet_count': 0, 'favorite_count': 0, 'favorited': False, 'retweeted': False, 'possibly_sensitive': False, 'lang': 'en'}, created_at=datetime.datetime(2020, 10, 31, 14, 0, 45), id=1322539008728051712, id_str='1322539008728051712', full_text='Delhi Capitals: We will win this match and top the points table.\\nMeanwhile Mumbai Indians:-\\n#DCvsMI #IPL https://t.co/auwQkWEVh6', truncated=False, display_text_range=[0, 104], entities={'hashtags': [{'text': 'DCvsMI', 'indices': [92, 99]}, {'text': 'IPL', 'indices': [100, 104]}], 'symbols': [], 'user_mentions': [], 'urls': [], 'media': [{'id': 1322539004567252998, 'id_str': '1322539004567252998', 'indices': [105, 128], 'media_url': 'http://pbs.twimg.com/media/ElqaN7DUcAYx_g4.jpg', 'media_url_https': 'https://pbs.twimg.com/media/ElqaN7DUcAYx_g4.jpg', 'url': 'https://t.co/auwQkWEVh6', 'display_url': 'pic.twitter.com/auwQkWEVh6', 'expanded_url': 'https://twitter.com/shubhambest9305/status/1322539008728051712/photo/1', 'type': 'photo', 'sizes': {'thumb': {'w': 150, 'h': 150, 'resize': 'crop'}, 'large': {'w': 1055, 'h': 537, 'resize': 'fit'}, 'small': {'w': 680, 'h': 346, 'resize': 'fit'}, 'medium': {'w': 1055, 'h': 537, 'resize': 'fit'}}}]}, extended_entities={'media': [{'id': 1322539004567252998, 'id_str': '1322539004567252998', 'indices': [105, 128], 'media_url': 'http://pbs.twimg.com/media/ElqaN7DUcAYx_g4.jpg', 'media_url_https': 'https://pbs.twimg.com/media/ElqaN7DUcAYx_g4.jpg', 'url': 'https://t.co/auwQkWEVh6', 'display_url': 'pic.twitter.com/auwQkWEVh6', 'expanded_url': 'https://twitter.com/shubhambest9305/status/1322539008728051712/photo/1', 'type': 'photo', 'sizes': {'thumb': {'w': 150, 'h': 150, 'resize': 'crop'}, 'large': {'w': 1055, 'h': 537, 'resize': 'fit'}, 'small': {'w': 680, 'h': 346, 'resize': 'fit'}, 'medium': {'w': 1055, 'h': 537, 'resize': 'fit'}}}]}, metadata={'iso_language_code': 'en', 'result_type': 'recent'}, source='Twitter for Android', source_url='http://twitter.com/download/android', in_reply_to_status_id=None, in_reply_to_status_id_str=None, in_reply_to_user_id=None, in_reply_to_user_id_str=None, in_reply_to_screen_name=None, author=User(_api=<tweepy.api.API object at 0x0000000008803948>, _json={'id': 1078619210400464897, 'id_str': '1078619210400464897', 'name': 'shubham2345', 'screen_name': 'shubhambest9305', 'location': '', 'description': '', 'url': None, 'entities': {'description': {'urls': []}}, 'protected': False, 'followers_count': 2, 'friends_count': 24, 'listed_count': 0, 'created_at': 'Fri Dec 28 11:50:34 +0000 2018', 'favourites_count': 92, 'utc_offset': None, 'time_zone': None, 'geo_enabled': False, 'verified': False, 'statuses_count': 285, 'lang': None, 'contributors_enabled': False, 'is_translator': False, 'is_translation_enabled': False, 'profile_background_color': 'F5F8FA', 'profile_background_image_url': None, 'profile_background_image_url_https': None, 'profile_background_tile': False, 'profile_image_url': 'http://pbs.twimg.com/profile_images/1302848402128920579/nmvlbcja_normal.jpg', 'profile_image_url_https': 'https://pbs.twimg.com/profile_images/1302848402128920579/nmvlbcja_normal.jpg', 'profile_link_color': '1DA1F2', 'profile_sidebar_border_color': 'C0DEED', 'profile_sidebar_fill_color': 'DDEEF6', 'profile_text_color': '333333', 'profile_use_background_image': True, 'has_extended_profile': False, 'default_profile': True, 'default_profile_image': False, 'following': False, 'follow_request_sent': False, 'notifications': False, 'translator_type': 'none'}, id=1078619210400464897, id_str='1078619210400464897', name='shubham2345', screen_name='shubhambest9305', location='', description='', url=None, entities={'description': {'urls': []}}, protected=False, followers_count=2, friends_count=24, listed_count=0, created_at=datetime.datetime(2018, 12, 28, 11, 50, 34), favourites_count=92, utc_offset=None, time_zone=None, geo_enabled=False, verified=False, statuses_count=285, lang=None, contributors_enabled=False, is_translator=False, is_translation_enabled=False, profile_background_color='F5F8FA', profile_background_image_url=None, profile_background_image_url_https=None, profile_background_tile=False, profile_image_url='http://pbs.twimg.com/profile_images/1302848402128920579/nmvlbcja_normal.jpg', profile_image_url_https='https://pbs.twimg.com/profile_images/1302848402128920579/nmvlbcja_normal.jpg', profile_link_color='1DA1F2', profile_sidebar_border_color='C0DEED', profile_sidebar_fill_color='DDEEF6', profile_text_color='333333', profile_use_background_image=True, has_extended_profile=False, default_profile=True, default_profile_image=False, following=False, follow_request_sent=False, notifications=False, translator_type='none'), user=User(_api=<tweepy.api.API object at 0x0000000008803948>, _json={'id': 1078619210400464897, 'id_str': '1078619210400464897', 'name': 'shubham2345', 'screen_name': 'shubhambest9305', 'location': '', 'description': '', 'url': None, 'entities': {'description': {'urls': []}}, 'protected': False, 'followers_count': 2, 'friends_count': 24, 'listed_count': 0, 'created_at': 'Fri Dec 28 11:50:34 +0000 2018', 'favourites_count': 92, 'utc_offset': None, 'time_zone': None, 'geo_enabled': False, 'verified': False, 'statuses_count': 285, 'lang': None, 'contributors_enabled': False, 'is_translator': False, 'is_translation_enabled': False, 'profile_background_color': 'F5F8FA', 'profile_background_image_url': None, 'profile_background_image_url_https': None, 'profile_background_tile': False, 'profile_image_url': 'http://pbs.twimg.com/profile_images/1302848402128920579/nmvlbcja_normal.jpg', 'profile_image_url_https': 'https://pbs.twimg.com/profile_images/1302848402128920579/nmvlbcja_normal.jpg', 'profile_link_color': '1DA1F2', 'profile_sidebar_border_color': 'C0DEED', 'profile_sidebar_fill_color': 'DDEEF6', 'profile_text_color': '333333', 'profile_use_background_image': True, 'has_extended_profile': False, 'default_profile': True, 'default_profile_image': False, 'following': False, 'follow_request_sent': False, 'notifications': False, 'translator_type': 'none'}, id=1078619210400464897, id_str='1078619210400464897', name='shubham2345', screen_name='shubhambest9305', location='', description='', url=None, entities={'description': {'urls': []}}, protected=False, followers_count=2, friends_count=24, listed_count=0, created_at=datetime.datetime(2018, 12, 28, 11, 50, 34), favourites_count=92, utc_offset=None, time_zone=None, geo_enabled=False, verified=False, statuses_count=285, lang=None, contributors_enabled=False, is_translator=False, is_translation_enabled=False, profile_background_color='F5F8FA', profile_background_image_url=None, profile_background_image_url_https=None, profile_background_tile=False, profile_image_url='http://pbs.twimg.com/profile_images/1302848402128920579/nmvlbcja_normal.jpg', profile_image_url_https='https://pbs.twimg.com/profile_images/1302848402128920579/nmvlbcja_normal.jpg', profile_link_color='1DA1F2', profile_sidebar_border_color='C0DEED', profile_sidebar_fill_color='DDEEF6', profile_text_color='333333', profile_use_background_image=True, has_extended_profile=False, default_profile=True, default_profile_image=False, following=False, follow_request_sent=False, notifications=False, translator_type='none'), geo=None, coordinates=None, place=None, contributors=None, is_quote_status=False, retweet_count=0, favorite_count=0, favorited=False, retweeted=False, possibly_sensitive=False, lang='en') \n",
      "\n",
      ".....................................\n",
      "\n",
      "Status(_api=<tweepy.api.API object at 0x0000000008803948>, _json={'created_at': 'Sat Oct 31 13:01:56 +0000 2020', 'id': 1322524206387490816, 'id_str': '1322524206387490816', 'full_text': 'Mumbai Indians will win this year IPL', 'truncated': False, 'display_text_range': [0, 37], 'entities': {'hashtags': [], 'symbols': [], 'user_mentions': [], 'urls': []}, 'metadata': {'iso_language_code': 'en', 'result_type': 'recent'}, 'source': '<a href=\"http://twitter.com/download/android\" rel=\"nofollow\">Twitter for Android</a>', 'in_reply_to_status_id': None, 'in_reply_to_status_id_str': None, 'in_reply_to_user_id': None, 'in_reply_to_user_id_str': None, 'in_reply_to_screen_name': None, 'user': {'id': 1208694422, 'id_str': '1208694422', 'name': 'K.E.V.Y.N', 'screen_name': 'KevynMaroon', 'location': 'Bengaluru, Karnataka', 'description': 'Get better each day🤘', 'url': None, 'entities': {'description': {'urls': []}}, 'protected': False, 'followers_count': 319, 'friends_count': 91, 'listed_count': 0, 'created_at': 'Fri Feb 22 14:21:30 +0000 2013', 'favourites_count': 3358, 'utc_offset': None, 'time_zone': None, 'geo_enabled': True, 'verified': False, 'statuses_count': 14563, 'lang': None, 'contributors_enabled': False, 'is_translator': False, 'is_translation_enabled': False, 'profile_background_color': 'C0DEED', 'profile_background_image_url': 'http://abs.twimg.com/images/themes/theme1/bg.png', 'profile_background_image_url_https': 'https://abs.twimg.com/images/themes/theme1/bg.png', 'profile_background_tile': False, 'profile_image_url': 'http://pbs.twimg.com/profile_images/1302391550563893248/AXc6Ypup_normal.jpg', 'profile_image_url_https': 'https://pbs.twimg.com/profile_images/1302391550563893248/AXc6Ypup_normal.jpg', 'profile_banner_url': 'https://pbs.twimg.com/profile_banners/1208694422/1515940094', 'profile_link_color': '1DA1F2', 'profile_sidebar_border_color': 'C0DEED', 'profile_sidebar_fill_color': 'DDEEF6', 'profile_text_color': '333333', 'profile_use_background_image': True, 'has_extended_profile': True, 'default_profile': True, 'default_profile_image': False, 'following': False, 'follow_request_sent': False, 'notifications': False, 'translator_type': 'none'}, 'geo': None, 'coordinates': None, 'place': None, 'contributors': None, 'is_quote_status': False, 'retweet_count': 0, 'favorite_count': 1, 'favorited': False, 'retweeted': False, 'lang': 'en'}, created_at=datetime.datetime(2020, 10, 31, 13, 1, 56), id=1322524206387490816, id_str='1322524206387490816', full_text='Mumbai Indians will win this year IPL', truncated=False, display_text_range=[0, 37], entities={'hashtags': [], 'symbols': [], 'user_mentions': [], 'urls': []}, metadata={'iso_language_code': 'en', 'result_type': 'recent'}, source='Twitter for Android', source_url='http://twitter.com/download/android', in_reply_to_status_id=None, in_reply_to_status_id_str=None, in_reply_to_user_id=None, in_reply_to_user_id_str=None, in_reply_to_screen_name=None, author=User(_api=<tweepy.api.API object at 0x0000000008803948>, _json={'id': 1208694422, 'id_str': '1208694422', 'name': 'K.E.V.Y.N', 'screen_name': 'KevynMaroon', 'location': 'Bengaluru, Karnataka', 'description': 'Get better each day🤘', 'url': None, 'entities': {'description': {'urls': []}}, 'protected': False, 'followers_count': 319, 'friends_count': 91, 'listed_count': 0, 'created_at': 'Fri Feb 22 14:21:30 +0000 2013', 'favourites_count': 3358, 'utc_offset': None, 'time_zone': None, 'geo_enabled': True, 'verified': False, 'statuses_count': 14563, 'lang': None, 'contributors_enabled': False, 'is_translator': False, 'is_translation_enabled': False, 'profile_background_color': 'C0DEED', 'profile_background_image_url': 'http://abs.twimg.com/images/themes/theme1/bg.png', 'profile_background_image_url_https': 'https://abs.twimg.com/images/themes/theme1/bg.png', 'profile_background_tile': False, 'profile_image_url': 'http://pbs.twimg.com/profile_images/1302391550563893248/AXc6Ypup_normal.jpg', 'profile_image_url_https': 'https://pbs.twimg.com/profile_images/1302391550563893248/AXc6Ypup_normal.jpg', 'profile_banner_url': 'https://pbs.twimg.com/profile_banners/1208694422/1515940094', 'profile_link_color': '1DA1F2', 'profile_sidebar_border_color': 'C0DEED', 'profile_sidebar_fill_color': 'DDEEF6', 'profile_text_color': '333333', 'profile_use_background_image': True, 'has_extended_profile': True, 'default_profile': True, 'default_profile_image': False, 'following': False, 'follow_request_sent': False, 'notifications': False, 'translator_type': 'none'}, id=1208694422, id_str='1208694422', name='K.E.V.Y.N', screen_name='KevynMaroon', location='Bengaluru, Karnataka', description='Get better each day🤘', url=None, entities={'description': {'urls': []}}, protected=False, followers_count=319, friends_count=91, listed_count=0, created_at=datetime.datetime(2013, 2, 22, 14, 21, 30), favourites_count=3358, utc_offset=None, time_zone=None, geo_enabled=True, verified=False, statuses_count=14563, lang=None, contributors_enabled=False, is_translator=False, is_translation_enabled=False, profile_background_color='C0DEED', profile_background_image_url='http://abs.twimg.com/images/themes/theme1/bg.png', profile_background_image_url_https='https://abs.twimg.com/images/themes/theme1/bg.png', profile_background_tile=False, profile_image_url='http://pbs.twimg.com/profile_images/1302391550563893248/AXc6Ypup_normal.jpg', profile_image_url_https='https://pbs.twimg.com/profile_images/1302391550563893248/AXc6Ypup_normal.jpg', profile_banner_url='https://pbs.twimg.com/profile_banners/1208694422/1515940094', profile_link_color='1DA1F2', profile_sidebar_border_color='C0DEED', profile_sidebar_fill_color='DDEEF6', profile_text_color='333333', profile_use_background_image=True, has_extended_profile=True, default_profile=True, default_profile_image=False, following=False, follow_request_sent=False, notifications=False, translator_type='none'), user=User(_api=<tweepy.api.API object at 0x0000000008803948>, _json={'id': 1208694422, 'id_str': '1208694422', 'name': 'K.E.V.Y.N', 'screen_name': 'KevynMaroon', 'location': 'Bengaluru, Karnataka', 'description': 'Get better each day🤘', 'url': None, 'entities': {'description': {'urls': []}}, 'protected': False, 'followers_count': 319, 'friends_count': 91, 'listed_count': 0, 'created_at': 'Fri Feb 22 14:21:30 +0000 2013', 'favourites_count': 3358, 'utc_offset': None, 'time_zone': None, 'geo_enabled': True, 'verified': False, 'statuses_count': 14563, 'lang': None, 'contributors_enabled': False, 'is_translator': False, 'is_translation_enabled': False, 'profile_background_color': 'C0DEED', 'profile_background_image_url': 'http://abs.twimg.com/images/themes/theme1/bg.png', 'profile_background_image_url_https': 'https://abs.twimg.com/images/themes/theme1/bg.png', 'profile_background_tile': False, 'profile_image_url': 'http://pbs.twimg.com/profile_images/1302391550563893248/AXc6Ypup_normal.jpg', 'profile_image_url_https': 'https://pbs.twimg.com/profile_images/1302391550563893248/AXc6Ypup_normal.jpg', 'profile_banner_url': 'https://pbs.twimg.com/profile_banners/1208694422/1515940094', 'profile_link_color': '1DA1F2', 'profile_sidebar_border_color': 'C0DEED', 'profile_sidebar_fill_color': 'DDEEF6', 'profile_text_color': '333333', 'profile_use_background_image': True, 'has_extended_profile': True, 'default_profile': True, 'default_profile_image': False, 'following': False, 'follow_request_sent': False, 'notifications': False, 'translator_type': 'none'}, id=1208694422, id_str='1208694422', name='K.E.V.Y.N', screen_name='KevynMaroon', location='Bengaluru, Karnataka', description='Get better each day🤘', url=None, entities={'description': {'urls': []}}, protected=False, followers_count=319, friends_count=91, listed_count=0, created_at=datetime.datetime(2013, 2, 22, 14, 21, 30), favourites_count=3358, utc_offset=None, time_zone=None, geo_enabled=True, verified=False, statuses_count=14563, lang=None, contributors_enabled=False, is_translator=False, is_translation_enabled=False, profile_background_color='C0DEED', profile_background_image_url='http://abs.twimg.com/images/themes/theme1/bg.png', profile_background_image_url_https='https://abs.twimg.com/images/themes/theme1/bg.png', profile_background_tile=False, profile_image_url='http://pbs.twimg.com/profile_images/1302391550563893248/AXc6Ypup_normal.jpg', profile_image_url_https='https://pbs.twimg.com/profile_images/1302391550563893248/AXc6Ypup_normal.jpg', profile_banner_url='https://pbs.twimg.com/profile_banners/1208694422/1515940094', profile_link_color='1DA1F2', profile_sidebar_border_color='C0DEED', profile_sidebar_fill_color='DDEEF6', profile_text_color='333333', profile_use_background_image=True, has_extended_profile=True, default_profile=True, default_profile_image=False, following=False, follow_request_sent=False, notifications=False, translator_type='none'), geo=None, coordinates=None, place=None, contributors=None, is_quote_status=False, retweet_count=0, favorite_count=1, favorited=False, retweeted=False, lang='en') \n",
      "\n",
      ".....................................\n",
      "\n",
      "Status(_api=<tweepy.api.API object at 0x0000000008803948>, _json={'created_at': 'Sat Oct 31 13:01:19 +0000 2020', 'id': 1322524051248619521, 'id_str': '1322524051248619521', 'full_text': '#IPL2020 Updates MI win by 9 wickets; Kishan 72 not out. For Live scores click here  https://t.co/VCdDVhMCGL \\n\\n#MI #DC #MIvsDC  #IPL @mipaltan @DelhiCapitals @IPL', 'truncated': False, 'display_text_range': [0, 162], 'entities': {'hashtags': [{'text': 'IPL2020', 'indices': [0, 8]}, {'text': 'MI', 'indices': [111, 114]}, {'text': 'DC', 'indices': [115, 118]}, {'text': 'MIvsDC', 'indices': [119, 126]}, {'text': 'IPL', 'indices': [128, 132]}], 'symbols': [], 'user_mentions': [{'screen_name': 'mipaltan', 'name': 'Mumbai Indians', 'id': 106345557, 'id_str': '106345557', 'indices': [133, 142]}, {'screen_name': 'DelhiCapitals', 'name': 'Delhi Capitals (Tweeting from 🇦🇪)', 'id': 176888549, 'id_str': '176888549', 'indices': [143, 157]}, {'screen_name': 'IPL', 'name': 'IndianPremierLeague', 'id': 15639696, 'id_str': '15639696', 'indices': [158, 162]}], 'urls': [{'url': 'https://t.co/VCdDVhMCGL', 'expanded_url': 'https://bit.ly/34Lw8QJ', 'display_url': 'bit.ly/34Lw8QJ', 'indices': [85, 108]}]}, 'metadata': {'iso_language_code': 'en', 'result_type': 'recent'}, 'source': '<a href=\"https://mobile.twitter.com\" rel=\"nofollow\">Twitter Web App</a>', 'in_reply_to_status_id': None, 'in_reply_to_status_id_str': None, 'in_reply_to_user_id': None, 'in_reply_to_user_id_str': None, 'in_reply_to_screen_name': None, 'user': {'id': 22763833, 'id_str': '22763833', 'name': 'Outlook Magazine', 'screen_name': 'Outlookindia', 'location': 'New Delhi, India', 'description': 'The fully loaded news magazine from India', 'url': 'https://t.co/cDCcaYMbgs', 'entities': {'url': {'urls': [{'url': 'https://t.co/cDCcaYMbgs', 'expanded_url': 'http://www.outlookindia.com', 'display_url': 'outlookindia.com', 'indices': [0, 23]}]}, 'description': {'urls': []}}, 'protected': False, 'followers_count': 226110, 'friends_count': 58, 'listed_count': 1451, 'created_at': 'Wed Mar 04 12:45:00 +0000 2009', 'favourites_count': 226, 'utc_offset': None, 'time_zone': None, 'geo_enabled': False, 'verified': True, 'statuses_count': 368753, 'lang': None, 'contributors_enabled': False, 'is_translator': False, 'is_translation_enabled': False, 'profile_background_color': 'FFFFFF', 'profile_background_image_url': 'http://abs.twimg.com/images/themes/theme3/bg.gif', 'profile_background_image_url_https': 'https://abs.twimg.com/images/themes/theme3/bg.gif', 'profile_background_tile': True, 'profile_image_url': 'http://pbs.twimg.com/profile_images/657904406155759617/IYxrXEPi_normal.jpg', 'profile_image_url_https': 'https://pbs.twimg.com/profile_images/657904406155759617/IYxrXEPi_normal.jpg', 'profile_banner_url': 'https://pbs.twimg.com/profile_banners/22763833/1604051314', 'profile_link_color': 'AF0E26', 'profile_sidebar_border_color': 'FFFFFF', 'profile_sidebar_fill_color': 'FFFFFF', 'profile_text_color': '000000', 'profile_use_background_image': True, 'has_extended_profile': False, 'default_profile': False, 'default_profile_image': False, 'following': False, 'follow_request_sent': False, 'notifications': False, 'translator_type': 'none'}, 'geo': None, 'coordinates': None, 'place': None, 'contributors': None, 'is_quote_status': False, 'retweet_count': 0, 'favorite_count': 1, 'favorited': False, 'retweeted': False, 'possibly_sensitive': False, 'lang': 'en'}, created_at=datetime.datetime(2020, 10, 31, 13, 1, 19), id=1322524051248619521, id_str='1322524051248619521', full_text='#IPL2020 Updates MI win by 9 wickets; Kishan 72 not out. For Live scores click here  https://t.co/VCdDVhMCGL \\n\\n#MI #DC #MIvsDC  #IPL @mipaltan @DelhiCapitals @IPL', truncated=False, display_text_range=[0, 162], entities={'hashtags': [{'text': 'IPL2020', 'indices': [0, 8]}, {'text': 'MI', 'indices': [111, 114]}, {'text': 'DC', 'indices': [115, 118]}, {'text': 'MIvsDC', 'indices': [119, 126]}, {'text': 'IPL', 'indices': [128, 132]}], 'symbols': [], 'user_mentions': [{'screen_name': 'mipaltan', 'name': 'Mumbai Indians', 'id': 106345557, 'id_str': '106345557', 'indices': [133, 142]}, {'screen_name': 'DelhiCapitals', 'name': 'Delhi Capitals (Tweeting from 🇦🇪)', 'id': 176888549, 'id_str': '176888549', 'indices': [143, 157]}, {'screen_name': 'IPL', 'name': 'IndianPremierLeague', 'id': 15639696, 'id_str': '15639696', 'indices': [158, 162]}], 'urls': [{'url': 'https://t.co/VCdDVhMCGL', 'expanded_url': 'https://bit.ly/34Lw8QJ', 'display_url': 'bit.ly/34Lw8QJ', 'indices': [85, 108]}]}, metadata={'iso_language_code': 'en', 'result_type': 'recent'}, source='Twitter Web App', source_url='https://mobile.twitter.com', in_reply_to_status_id=None, in_reply_to_status_id_str=None, in_reply_to_user_id=None, in_reply_to_user_id_str=None, in_reply_to_screen_name=None, author=User(_api=<tweepy.api.API object at 0x0000000008803948>, _json={'id': 22763833, 'id_str': '22763833', 'name': 'Outlook Magazine', 'screen_name': 'Outlookindia', 'location': 'New Delhi, India', 'description': 'The fully loaded news magazine from India', 'url': 'https://t.co/cDCcaYMbgs', 'entities': {'url': {'urls': [{'url': 'https://t.co/cDCcaYMbgs', 'expanded_url': 'http://www.outlookindia.com', 'display_url': 'outlookindia.com', 'indices': [0, 23]}]}, 'description': {'urls': []}}, 'protected': False, 'followers_count': 226110, 'friends_count': 58, 'listed_count': 1451, 'created_at': 'Wed Mar 04 12:45:00 +0000 2009', 'favourites_count': 226, 'utc_offset': None, 'time_zone': None, 'geo_enabled': False, 'verified': True, 'statuses_count': 368753, 'lang': None, 'contributors_enabled': False, 'is_translator': False, 'is_translation_enabled': False, 'profile_background_color': 'FFFFFF', 'profile_background_image_url': 'http://abs.twimg.com/images/themes/theme3/bg.gif', 'profile_background_image_url_https': 'https://abs.twimg.com/images/themes/theme3/bg.gif', 'profile_background_tile': True, 'profile_image_url': 'http://pbs.twimg.com/profile_images/657904406155759617/IYxrXEPi_normal.jpg', 'profile_image_url_https': 'https://pbs.twimg.com/profile_images/657904406155759617/IYxrXEPi_normal.jpg', 'profile_banner_url': 'https://pbs.twimg.com/profile_banners/22763833/1604051314', 'profile_link_color': 'AF0E26', 'profile_sidebar_border_color': 'FFFFFF', 'profile_sidebar_fill_color': 'FFFFFF', 'profile_text_color': '000000', 'profile_use_background_image': True, 'has_extended_profile': False, 'default_profile': False, 'default_profile_image': False, 'following': False, 'follow_request_sent': False, 'notifications': False, 'translator_type': 'none'}, id=22763833, id_str='22763833', name='Outlook Magazine', screen_name='Outlookindia', location='New Delhi, India', description='The fully loaded news magazine from India', url='https://t.co/cDCcaYMbgs', entities={'url': {'urls': [{'url': 'https://t.co/cDCcaYMbgs', 'expanded_url': 'http://www.outlookindia.com', 'display_url': 'outlookindia.com', 'indices': [0, 23]}]}, 'description': {'urls': []}}, protected=False, followers_count=226110, friends_count=58, listed_count=1451, created_at=datetime.datetime(2009, 3, 4, 12, 45), favourites_count=226, utc_offset=None, time_zone=None, geo_enabled=False, verified=True, statuses_count=368753, lang=None, contributors_enabled=False, is_translator=False, is_translation_enabled=False, profile_background_color='FFFFFF', profile_background_image_url='http://abs.twimg.com/images/themes/theme3/bg.gif', profile_background_image_url_https='https://abs.twimg.com/images/themes/theme3/bg.gif', profile_background_tile=True, profile_image_url='http://pbs.twimg.com/profile_images/657904406155759617/IYxrXEPi_normal.jpg', profile_image_url_https='https://pbs.twimg.com/profile_images/657904406155759617/IYxrXEPi_normal.jpg', profile_banner_url='https://pbs.twimg.com/profile_banners/22763833/1604051314', profile_link_color='AF0E26', profile_sidebar_border_color='FFFFFF', profile_sidebar_fill_color='FFFFFF', profile_text_color='000000', profile_use_background_image=True, has_extended_profile=False, default_profile=False, default_profile_image=False, following=False, follow_request_sent=False, notifications=False, translator_type='none'), user=User(_api=<tweepy.api.API object at 0x0000000008803948>, _json={'id': 22763833, 'id_str': '22763833', 'name': 'Outlook Magazine', 'screen_name': 'Outlookindia', 'location': 'New Delhi, India', 'description': 'The fully loaded news magazine from India', 'url': 'https://t.co/cDCcaYMbgs', 'entities': {'url': {'urls': [{'url': 'https://t.co/cDCcaYMbgs', 'expanded_url': 'http://www.outlookindia.com', 'display_url': 'outlookindia.com', 'indices': [0, 23]}]}, 'description': {'urls': []}}, 'protected': False, 'followers_count': 226110, 'friends_count': 58, 'listed_count': 1451, 'created_at': 'Wed Mar 04 12:45:00 +0000 2009', 'favourites_count': 226, 'utc_offset': None, 'time_zone': None, 'geo_enabled': False, 'verified': True, 'statuses_count': 368753, 'lang': None, 'contributors_enabled': False, 'is_translator': False, 'is_translation_enabled': False, 'profile_background_color': 'FFFFFF', 'profile_background_image_url': 'http://abs.twimg.com/images/themes/theme3/bg.gif', 'profile_background_image_url_https': 'https://abs.twimg.com/images/themes/theme3/bg.gif', 'profile_background_tile': True, 'profile_image_url': 'http://pbs.twimg.com/profile_images/657904406155759617/IYxrXEPi_normal.jpg', 'profile_image_url_https': 'https://pbs.twimg.com/profile_images/657904406155759617/IYxrXEPi_normal.jpg', 'profile_banner_url': 'https://pbs.twimg.com/profile_banners/22763833/1604051314', 'profile_link_color': 'AF0E26', 'profile_sidebar_border_color': 'FFFFFF', 'profile_sidebar_fill_color': 'FFFFFF', 'profile_text_color': '000000', 'profile_use_background_image': True, 'has_extended_profile': False, 'default_profile': False, 'default_profile_image': False, 'following': False, 'follow_request_sent': False, 'notifications': False, 'translator_type': 'none'}, id=22763833, id_str='22763833', name='Outlook Magazine', screen_name='Outlookindia', location='New Delhi, India', description='The fully loaded news magazine from India', url='https://t.co/cDCcaYMbgs', entities={'url': {'urls': [{'url': 'https://t.co/cDCcaYMbgs', 'expanded_url': 'http://www.outlookindia.com', 'display_url': 'outlookindia.com', 'indices': [0, 23]}]}, 'description': {'urls': []}}, protected=False, followers_count=226110, friends_count=58, listed_count=1451, created_at=datetime.datetime(2009, 3, 4, 12, 45), favourites_count=226, utc_offset=None, time_zone=None, geo_enabled=False, verified=True, statuses_count=368753, lang=None, contributors_enabled=False, is_translator=False, is_translation_enabled=False, profile_background_color='FFFFFF', profile_background_image_url='http://abs.twimg.com/images/themes/theme3/bg.gif', profile_background_image_url_https='https://abs.twimg.com/images/themes/theme3/bg.gif', profile_background_tile=True, profile_image_url='http://pbs.twimg.com/profile_images/657904406155759617/IYxrXEPi_normal.jpg', profile_image_url_https='https://pbs.twimg.com/profile_images/657904406155759617/IYxrXEPi_normal.jpg', profile_banner_url='https://pbs.twimg.com/profile_banners/22763833/1604051314', profile_link_color='AF0E26', profile_sidebar_border_color='FFFFFF', profile_sidebar_fill_color='FFFFFF', profile_text_color='000000', profile_use_background_image=True, has_extended_profile=False, default_profile=False, default_profile_image=False, following=False, follow_request_sent=False, notifications=False, translator_type='none'), geo=None, coordinates=None, place=None, contributors=None, is_quote_status=False, retweet_count=0, favorite_count=1, favorited=False, retweeted=False, possibly_sensitive=False, lang='en') \n",
      "\n",
      ".....................................\n",
      "\n",
      "Status(_api=<tweepy.api.API object at 0x0000000008803948>, _json={'created_at': 'Sat Oct 31 12:41:08 +0000 2020', 'id': 1322518971380166656, 'id_str': '1322518971380166656', 'full_text': '#IPLOnMC I #MI 1 down in 68 runs. They need 43 runs in 58 balls to win. Will they? Track Live: https://t.co/WZV2nr6M2f\\n\\n#IPL2020 #DCvMI https://t.co/wcIc9pIWR3', 'truncated': False, 'display_text_range': [0, 135], 'entities': {'hashtags': [{'text': 'IPLOnMC', 'indices': [0, 8]}, {'text': 'MI', 'indices': [11, 14]}, {'text': 'IPL2020', 'indices': [120, 128]}, {'text': 'DCvMI', 'indices': [129, 135]}], 'symbols': [], 'user_mentions': [], 'urls': [{'url': 'https://t.co/WZV2nr6M2f', 'expanded_url': 'https://www.moneycontrol.com/news/cricket/ipl-2020-dc-vs-mi-delhi-capitals-vs-mumbai-indians-shreyas-iyer-pollard-rabada-bumrah-live-score-ball-by-ball-updates-6044911.html', 'display_url': 'moneycontrol.com/news/cricket/i…', 'indices': [95, 118]}], 'media': [{'id': 1322518959757783040, 'id_str': '1322518959757783040', 'indices': [136, 159], 'media_url': 'http://pbs.twimg.com/media/ElqH_KUU8AApo52.jpg', 'media_url_https': 'https://pbs.twimg.com/media/ElqH_KUU8AApo52.jpg', 'url': 'https://t.co/wcIc9pIWR3', 'display_url': 'pic.twitter.com/wcIc9pIWR3', 'expanded_url': 'https://twitter.com/moneycontrolcom/status/1322518971380166656/photo/1', 'type': 'photo', 'sizes': {'thumb': {'w': 150, 'h': 150, 'resize': 'crop'}, 'large': {'w': 1200, 'h': 675, 'resize': 'fit'}, 'medium': {'w': 1200, 'h': 675, 'resize': 'fit'}, 'small': {'w': 680, 'h': 383, 'resize': 'fit'}}}]}, 'extended_entities': {'media': [{'id': 1322518959757783040, 'id_str': '1322518959757783040', 'indices': [136, 159], 'media_url': 'http://pbs.twimg.com/media/ElqH_KUU8AApo52.jpg', 'media_url_https': 'https://pbs.twimg.com/media/ElqH_KUU8AApo52.jpg', 'url': 'https://t.co/wcIc9pIWR3', 'display_url': 'pic.twitter.com/wcIc9pIWR3', 'expanded_url': 'https://twitter.com/moneycontrolcom/status/1322518971380166656/photo/1', 'type': 'photo', 'sizes': {'thumb': {'w': 150, 'h': 150, 'resize': 'crop'}, 'large': {'w': 1200, 'h': 675, 'resize': 'fit'}, 'medium': {'w': 1200, 'h': 675, 'resize': 'fit'}, 'small': {'w': 680, 'h': 383, 'resize': 'fit'}}}]}, 'metadata': {'iso_language_code': 'en', 'result_type': 'recent'}, 'source': '<a href=\"http://twitter.com/download/android\" rel=\"nofollow\">Twitter for Android</a>', 'in_reply_to_status_id': None, 'in_reply_to_status_id_str': None, 'in_reply_to_user_id': None, 'in_reply_to_user_id_str': None, 'in_reply_to_screen_name': None, 'user': {'id': 68927629, 'id_str': '68927629', 'name': 'moneycontrol', 'screen_name': 'moneycontrolcom', 'location': 'Mumbai', 'description': 'Moneycontrol is India’s No. 1 financial portal. Tune in for breaking news, in-depth analyses, best investment tools. Get #MCPro for exclusive content & benefits', 'url': 'https://t.co/HlzuUG82FN', 'entities': {'url': {'urls': [{'url': 'https://t.co/HlzuUG82FN', 'expanded_url': 'http://www.moneycontrol.com', 'display_url': 'moneycontrol.com', 'indices': [0, 23]}]}, 'description': {'urls': []}}, 'protected': False, 'followers_count': 951368, 'friends_count': 293, 'listed_count': 2508, 'created_at': 'Wed Aug 26 07:55:29 +0000 2009', 'favourites_count': 1064, 'utc_offset': None, 'time_zone': None, 'geo_enabled': False, 'verified': True, 'statuses_count': 273361, 'lang': None, 'contributors_enabled': False, 'is_translator': False, 'is_translation_enabled': False, 'profile_background_color': '000000', 'profile_background_image_url': 'http://abs.twimg.com/images/themes/theme15/bg.png', 'profile_background_image_url_https': 'https://abs.twimg.com/images/themes/theme15/bg.png', 'profile_background_tile': False, 'profile_image_url': 'http://pbs.twimg.com/profile_images/841519699632447488/ea4043nJ_normal.jpg', 'profile_image_url_https': 'https://pbs.twimg.com/profile_images/841519699632447488/ea4043nJ_normal.jpg', 'profile_banner_url': 'https://pbs.twimg.com/profile_banners/68927629/1603098782', 'profile_link_color': '19CF86', 'profile_sidebar_border_color': '000000', 'profile_sidebar_fill_color': '000000', 'profile_text_color': '000000', 'profile_use_background_image': False, 'has_extended_profile': False, 'default_profile': False, 'default_profile_image': False, 'following': False, 'follow_request_sent': False, 'notifications': False, 'translator_type': 'none'}, 'geo': None, 'coordinates': None, 'place': None, 'contributors': None, 'is_quote_status': False, 'retweet_count': 1, 'favorite_count': 6, 'favorited': False, 'retweeted': False, 'possibly_sensitive': False, 'lang': 'en'}, created_at=datetime.datetime(2020, 10, 31, 12, 41, 8), id=1322518971380166656, id_str='1322518971380166656', full_text='#IPLOnMC I #MI 1 down in 68 runs. They need 43 runs in 58 balls to win. Will they? Track Live: https://t.co/WZV2nr6M2f\\n\\n#IPL2020 #DCvMI https://t.co/wcIc9pIWR3', truncated=False, display_text_range=[0, 135], entities={'hashtags': [{'text': 'IPLOnMC', 'indices': [0, 8]}, {'text': 'MI', 'indices': [11, 14]}, {'text': 'IPL2020', 'indices': [120, 128]}, {'text': 'DCvMI', 'indices': [129, 135]}], 'symbols': [], 'user_mentions': [], 'urls': [{'url': 'https://t.co/WZV2nr6M2f', 'expanded_url': 'https://www.moneycontrol.com/news/cricket/ipl-2020-dc-vs-mi-delhi-capitals-vs-mumbai-indians-shreyas-iyer-pollard-rabada-bumrah-live-score-ball-by-ball-updates-6044911.html', 'display_url': 'moneycontrol.com/news/cricket/i…', 'indices': [95, 118]}], 'media': [{'id': 1322518959757783040, 'id_str': '1322518959757783040', 'indices': [136, 159], 'media_url': 'http://pbs.twimg.com/media/ElqH_KUU8AApo52.jpg', 'media_url_https': 'https://pbs.twimg.com/media/ElqH_KUU8AApo52.jpg', 'url': 'https://t.co/wcIc9pIWR3', 'display_url': 'pic.twitter.com/wcIc9pIWR3', 'expanded_url': 'https://twitter.com/moneycontrolcom/status/1322518971380166656/photo/1', 'type': 'photo', 'sizes': {'thumb': {'w': 150, 'h': 150, 'resize': 'crop'}, 'large': {'w': 1200, 'h': 675, 'resize': 'fit'}, 'medium': {'w': 1200, 'h': 675, 'resize': 'fit'}, 'small': {'w': 680, 'h': 383, 'resize': 'fit'}}}]}, extended_entities={'media': [{'id': 1322518959757783040, 'id_str': '1322518959757783040', 'indices': [136, 159], 'media_url': 'http://pbs.twimg.com/media/ElqH_KUU8AApo52.jpg', 'media_url_https': 'https://pbs.twimg.com/media/ElqH_KUU8AApo52.jpg', 'url': 'https://t.co/wcIc9pIWR3', 'display_url': 'pic.twitter.com/wcIc9pIWR3', 'expanded_url': 'https://twitter.com/moneycontrolcom/status/1322518971380166656/photo/1', 'type': 'photo', 'sizes': {'thumb': {'w': 150, 'h': 150, 'resize': 'crop'}, 'large': {'w': 1200, 'h': 675, 'resize': 'fit'}, 'medium': {'w': 1200, 'h': 675, 'resize': 'fit'}, 'small': {'w': 680, 'h': 383, 'resize': 'fit'}}}]}, metadata={'iso_language_code': 'en', 'result_type': 'recent'}, source='Twitter for Android', source_url='http://twitter.com/download/android', in_reply_to_status_id=None, in_reply_to_status_id_str=None, in_reply_to_user_id=None, in_reply_to_user_id_str=None, in_reply_to_screen_name=None, author=User(_api=<tweepy.api.API object at 0x0000000008803948>, _json={'id': 68927629, 'id_str': '68927629', 'name': 'moneycontrol', 'screen_name': 'moneycontrolcom', 'location': 'Mumbai', 'description': 'Moneycontrol is India’s No. 1 financial portal. Tune in for breaking news, in-depth analyses, best investment tools. Get #MCPro for exclusive content & benefits', 'url': 'https://t.co/HlzuUG82FN', 'entities': {'url': {'urls': [{'url': 'https://t.co/HlzuUG82FN', 'expanded_url': 'http://www.moneycontrol.com', 'display_url': 'moneycontrol.com', 'indices': [0, 23]}]}, 'description': {'urls': []}}, 'protected': False, 'followers_count': 951368, 'friends_count': 293, 'listed_count': 2508, 'created_at': 'Wed Aug 26 07:55:29 +0000 2009', 'favourites_count': 1064, 'utc_offset': None, 'time_zone': None, 'geo_enabled': False, 'verified': True, 'statuses_count': 273361, 'lang': None, 'contributors_enabled': False, 'is_translator': False, 'is_translation_enabled': False, 'profile_background_color': '000000', 'profile_background_image_url': 'http://abs.twimg.com/images/themes/theme15/bg.png', 'profile_background_image_url_https': 'https://abs.twimg.com/images/themes/theme15/bg.png', 'profile_background_tile': False, 'profile_image_url': 'http://pbs.twimg.com/profile_images/841519699632447488/ea4043nJ_normal.jpg', 'profile_image_url_https': 'https://pbs.twimg.com/profile_images/841519699632447488/ea4043nJ_normal.jpg', 'profile_banner_url': 'https://pbs.twimg.com/profile_banners/68927629/1603098782', 'profile_link_color': '19CF86', 'profile_sidebar_border_color': '000000', 'profile_sidebar_fill_color': '000000', 'profile_text_color': '000000', 'profile_use_background_image': False, 'has_extended_profile': False, 'default_profile': False, 'default_profile_image': False, 'following': False, 'follow_request_sent': False, 'notifications': False, 'translator_type': 'none'}, id=68927629, id_str='68927629', name='moneycontrol', screen_name='moneycontrolcom', location='Mumbai', description='Moneycontrol is India’s No. 1 financial portal. Tune in for breaking news, in-depth analyses, best investment tools. Get #MCPro for exclusive content & benefits', url='https://t.co/HlzuUG82FN', entities={'url': {'urls': [{'url': 'https://t.co/HlzuUG82FN', 'expanded_url': 'http://www.moneycontrol.com', 'display_url': 'moneycontrol.com', 'indices': [0, 23]}]}, 'description': {'urls': []}}, protected=False, followers_count=951368, friends_count=293, listed_count=2508, created_at=datetime.datetime(2009, 8, 26, 7, 55, 29), favourites_count=1064, utc_offset=None, time_zone=None, geo_enabled=False, verified=True, statuses_count=273361, lang=None, contributors_enabled=False, is_translator=False, is_translation_enabled=False, profile_background_color='000000', profile_background_image_url='http://abs.twimg.com/images/themes/theme15/bg.png', profile_background_image_url_https='https://abs.twimg.com/images/themes/theme15/bg.png', profile_background_tile=False, profile_image_url='http://pbs.twimg.com/profile_images/841519699632447488/ea4043nJ_normal.jpg', profile_image_url_https='https://pbs.twimg.com/profile_images/841519699632447488/ea4043nJ_normal.jpg', profile_banner_url='https://pbs.twimg.com/profile_banners/68927629/1603098782', profile_link_color='19CF86', profile_sidebar_border_color='000000', profile_sidebar_fill_color='000000', profile_text_color='000000', profile_use_background_image=False, has_extended_profile=False, default_profile=False, default_profile_image=False, following=False, follow_request_sent=False, notifications=False, translator_type='none'), user=User(_api=<tweepy.api.API object at 0x0000000008803948>, _json={'id': 68927629, 'id_str': '68927629', 'name': 'moneycontrol', 'screen_name': 'moneycontrolcom', 'location': 'Mumbai', 'description': 'Moneycontrol is India’s No. 1 financial portal. Tune in for breaking news, in-depth analyses, best investment tools. Get #MCPro for exclusive content & benefits', 'url': 'https://t.co/HlzuUG82FN', 'entities': {'url': {'urls': [{'url': 'https://t.co/HlzuUG82FN', 'expanded_url': 'http://www.moneycontrol.com', 'display_url': 'moneycontrol.com', 'indices': [0, 23]}]}, 'description': {'urls': []}}, 'protected': False, 'followers_count': 951368, 'friends_count': 293, 'listed_count': 2508, 'created_at': 'Wed Aug 26 07:55:29 +0000 2009', 'favourites_count': 1064, 'utc_offset': None, 'time_zone': None, 'geo_enabled': False, 'verified': True, 'statuses_count': 273361, 'lang': None, 'contributors_enabled': False, 'is_translator': False, 'is_translation_enabled': False, 'profile_background_color': '000000', 'profile_background_image_url': 'http://abs.twimg.com/images/themes/theme15/bg.png', 'profile_background_image_url_https': 'https://abs.twimg.com/images/themes/theme15/bg.png', 'profile_background_tile': False, 'profile_image_url': 'http://pbs.twimg.com/profile_images/841519699632447488/ea4043nJ_normal.jpg', 'profile_image_url_https': 'https://pbs.twimg.com/profile_images/841519699632447488/ea4043nJ_normal.jpg', 'profile_banner_url': 'https://pbs.twimg.com/profile_banners/68927629/1603098782', 'profile_link_color': '19CF86', 'profile_sidebar_border_color': '000000', 'profile_sidebar_fill_color': '000000', 'profile_text_color': '000000', 'profile_use_background_image': False, 'has_extended_profile': False, 'default_profile': False, 'default_profile_image': False, 'following': False, 'follow_request_sent': False, 'notifications': False, 'translator_type': 'none'}, id=68927629, id_str='68927629', name='moneycontrol', screen_name='moneycontrolcom', location='Mumbai', description='Moneycontrol is India’s No. 1 financial portal. Tune in for breaking news, in-depth analyses, best investment tools. Get #MCPro for exclusive content & benefits', url='https://t.co/HlzuUG82FN', entities={'url': {'urls': [{'url': 'https://t.co/HlzuUG82FN', 'expanded_url': 'http://www.moneycontrol.com', 'display_url': 'moneycontrol.com', 'indices': [0, 23]}]}, 'description': {'urls': []}}, protected=False, followers_count=951368, friends_count=293, listed_count=2508, created_at=datetime.datetime(2009, 8, 26, 7, 55, 29), favourites_count=1064, utc_offset=None, time_zone=None, geo_enabled=False, verified=True, statuses_count=273361, lang=None, contributors_enabled=False, is_translator=False, is_translation_enabled=False, profile_background_color='000000', profile_background_image_url='http://abs.twimg.com/images/themes/theme15/bg.png', profile_background_image_url_https='https://abs.twimg.com/images/themes/theme15/bg.png', profile_background_tile=False, profile_image_url='http://pbs.twimg.com/profile_images/841519699632447488/ea4043nJ_normal.jpg', profile_image_url_https='https://pbs.twimg.com/profile_images/841519699632447488/ea4043nJ_normal.jpg', profile_banner_url='https://pbs.twimg.com/profile_banners/68927629/1603098782', profile_link_color='19CF86', profile_sidebar_border_color='000000', profile_sidebar_fill_color='000000', profile_text_color='000000', profile_use_background_image=False, has_extended_profile=False, default_profile=False, default_profile_image=False, following=False, follow_request_sent=False, notifications=False, translator_type='none'), geo=None, coordinates=None, place=None, contributors=None, is_quote_status=False, retweet_count=1, favorite_count=6, favorited=False, retweeted=False, possibly_sensitive=False, lang='en') \n",
      "\n",
      ".....................................\n",
      "\n",
      "Status(_api=<tweepy.api.API object at 0x0000000008803948>, _json={'created_at': 'Sat Oct 31 12:05:03 +0000 2020', 'id': 1322509888426332161, 'id_str': '1322509888426332161', 'full_text': 'Mumbai Indians have rocked Delhi Capitals with their soekdnid bowling display 🔥🔝DC will need something special to win this from here 🤞🏻\\n--\\n#Dream11IPL #DCvMI #IPL2020 #IPL #FUN88INDIA\\n\\nContent courtesy of @IPL https://t.co/6kMmcrMoDO', 'truncated': False, 'display_text_range': [0, 209], 'entities': {'hashtags': [{'text': 'Dream11IPL', 'indices': [139, 150]}, {'text': 'DCvMI', 'indices': [151, 157]}, {'text': 'IPL2020', 'indices': [158, 166]}, {'text': 'IPL', 'indices': [167, 171]}, {'text': 'FUN88INDIA', 'indices': [172, 183]}], 'symbols': [], 'user_mentions': [{'screen_name': 'IPL', 'name': 'IndianPremierLeague', 'id': 15639696, 'id_str': '15639696', 'indices': [205, 209]}], 'urls': [], 'media': [{'id': 1322509880079601666, 'id_str': '1322509880079601666', 'indices': [210, 233], 'media_url': 'http://pbs.twimg.com/media/Elp_up4W0AIy4mi.jpg', 'media_url_https': 'https://pbs.twimg.com/media/Elp_up4W0AIy4mi.jpg', 'url': 'https://t.co/6kMmcrMoDO', 'display_url': 'pic.twitter.com/6kMmcrMoDO', 'expanded_url': 'https://twitter.com/Fun88India/status/1322509888426332161/photo/1', 'type': 'photo', 'sizes': {'small': {'w': 680, 'h': 680, 'resize': 'fit'}, 'thumb': {'w': 150, 'h': 150, 'resize': 'crop'}, 'large': {'w': 1080, 'h': 1080, 'resize': 'fit'}, 'medium': {'w': 1080, 'h': 1080, 'resize': 'fit'}}}]}, 'extended_entities': {'media': [{'id': 1322509880079601666, 'id_str': '1322509880079601666', 'indices': [210, 233], 'media_url': 'http://pbs.twimg.com/media/Elp_up4W0AIy4mi.jpg', 'media_url_https': 'https://pbs.twimg.com/media/Elp_up4W0AIy4mi.jpg', 'url': 'https://t.co/6kMmcrMoDO', 'display_url': 'pic.twitter.com/6kMmcrMoDO', 'expanded_url': 'https://twitter.com/Fun88India/status/1322509888426332161/photo/1', 'type': 'photo', 'sizes': {'small': {'w': 680, 'h': 680, 'resize': 'fit'}, 'thumb': {'w': 150, 'h': 150, 'resize': 'crop'}, 'large': {'w': 1080, 'h': 1080, 'resize': 'fit'}, 'medium': {'w': 1080, 'h': 1080, 'resize': 'fit'}}}]}, 'metadata': {'iso_language_code': 'en', 'result_type': 'recent'}, 'source': '<a href=\"http://twitter.com/download/android\" rel=\"nofollow\">Twitter for Android</a>', 'in_reply_to_status_id': None, 'in_reply_to_status_id_str': None, 'in_reply_to_user_id': None, 'in_reply_to_user_id_str': None, 'in_reply_to_screen_name': None, 'user': {'id': 1267323011021058048, 'id_str': '1267323011021058048', 'name': 'Fun88India', 'screen_name': 'Fun88India', 'location': '', 'description': \"Hi there! At Fun88 India, it's all about sports news and having lots of fun! So we spice it up and stir it up!\", 'url': 'https://t.co/693zUvkUaA', 'entities': {'url': {'urls': [{'url': 'https://t.co/693zUvkUaA', 'expanded_url': 'http://www.fun88.net', 'display_url': 'fun88.net', 'indices': [0, 23]}]}, 'description': {'urls': []}}, 'protected': False, 'followers_count': 210, 'friends_count': 15, 'listed_count': 0, 'created_at': 'Mon Jun 01 05:13:12 +0000 2020', 'favourites_count': 235, 'utc_offset': None, 'time_zone': None, 'geo_enabled': False, 'verified': False, 'statuses_count': 930, 'lang': None, 'contributors_enabled': False, 'is_translator': False, 'is_translation_enabled': False, 'profile_background_color': 'F5F8FA', 'profile_background_image_url': None, 'profile_background_image_url_https': None, 'profile_background_tile': False, 'profile_image_url': 'http://pbs.twimg.com/profile_images/1278804225368231937/6tXwQjDI_normal.jpg', 'profile_image_url_https': 'https://pbs.twimg.com/profile_images/1278804225368231937/6tXwQjDI_normal.jpg', 'profile_banner_url': 'https://pbs.twimg.com/profile_banners/1267323011021058048/1603596943', 'profile_link_color': '1DA1F2', 'profile_sidebar_border_color': 'C0DEED', 'profile_sidebar_fill_color': 'DDEEF6', 'profile_text_color': '333333', 'profile_use_background_image': True, 'has_extended_profile': False, 'default_profile': True, 'default_profile_image': False, 'following': False, 'follow_request_sent': False, 'notifications': False, 'translator_type': 'none'}, 'geo': None, 'coordinates': None, 'place': None, 'contributors': None, 'is_quote_status': False, 'retweet_count': 0, 'favorite_count': 0, 'favorited': False, 'retweeted': False, 'possibly_sensitive': False, 'lang': 'en'}, created_at=datetime.datetime(2020, 10, 31, 12, 5, 3), id=1322509888426332161, id_str='1322509888426332161', full_text='Mumbai Indians have rocked Delhi Capitals with their soekdnid bowling display 🔥🔝DC will need something special to win this from here 🤞🏻\\n--\\n#Dream11IPL #DCvMI #IPL2020 #IPL #FUN88INDIA\\n\\nContent courtesy of @IPL https://t.co/6kMmcrMoDO', truncated=False, display_text_range=[0, 209], entities={'hashtags': [{'text': 'Dream11IPL', 'indices': [139, 150]}, {'text': 'DCvMI', 'indices': [151, 157]}, {'text': 'IPL2020', 'indices': [158, 166]}, {'text': 'IPL', 'indices': [167, 171]}, {'text': 'FUN88INDIA', 'indices': [172, 183]}], 'symbols': [], 'user_mentions': [{'screen_name': 'IPL', 'name': 'IndianPremierLeague', 'id': 15639696, 'id_str': '15639696', 'indices': [205, 209]}], 'urls': [], 'media': [{'id': 1322509880079601666, 'id_str': '1322509880079601666', 'indices': [210, 233], 'media_url': 'http://pbs.twimg.com/media/Elp_up4W0AIy4mi.jpg', 'media_url_https': 'https://pbs.twimg.com/media/Elp_up4W0AIy4mi.jpg', 'url': 'https://t.co/6kMmcrMoDO', 'display_url': 'pic.twitter.com/6kMmcrMoDO', 'expanded_url': 'https://twitter.com/Fun88India/status/1322509888426332161/photo/1', 'type': 'photo', 'sizes': {'small': {'w': 680, 'h': 680, 'resize': 'fit'}, 'thumb': {'w': 150, 'h': 150, 'resize': 'crop'}, 'large': {'w': 1080, 'h': 1080, 'resize': 'fit'}, 'medium': {'w': 1080, 'h': 1080, 'resize': 'fit'}}}]}, extended_entities={'media': [{'id': 1322509880079601666, 'id_str': '1322509880079601666', 'indices': [210, 233], 'media_url': 'http://pbs.twimg.com/media/Elp_up4W0AIy4mi.jpg', 'media_url_https': 'https://pbs.twimg.com/media/Elp_up4W0AIy4mi.jpg', 'url': 'https://t.co/6kMmcrMoDO', 'display_url': 'pic.twitter.com/6kMmcrMoDO', 'expanded_url': 'https://twitter.com/Fun88India/status/1322509888426332161/photo/1', 'type': 'photo', 'sizes': {'small': {'w': 680, 'h': 680, 'resize': 'fit'}, 'thumb': {'w': 150, 'h': 150, 'resize': 'crop'}, 'large': {'w': 1080, 'h': 1080, 'resize': 'fit'}, 'medium': {'w': 1080, 'h': 1080, 'resize': 'fit'}}}]}, metadata={'iso_language_code': 'en', 'result_type': 'recent'}, source='Twitter for Android', source_url='http://twitter.com/download/android', in_reply_to_status_id=None, in_reply_to_status_id_str=None, in_reply_to_user_id=None, in_reply_to_user_id_str=None, in_reply_to_screen_name=None, author=User(_api=<tweepy.api.API object at 0x0000000008803948>, _json={'id': 1267323011021058048, 'id_str': '1267323011021058048', 'name': 'Fun88India', 'screen_name': 'Fun88India', 'location': '', 'description': \"Hi there! At Fun88 India, it's all about sports news and having lots of fun! So we spice it up and stir it up!\", 'url': 'https://t.co/693zUvkUaA', 'entities': {'url': {'urls': [{'url': 'https://t.co/693zUvkUaA', 'expanded_url': 'http://www.fun88.net', 'display_url': 'fun88.net', 'indices': [0, 23]}]}, 'description': {'urls': []}}, 'protected': False, 'followers_count': 210, 'friends_count': 15, 'listed_count': 0, 'created_at': 'Mon Jun 01 05:13:12 +0000 2020', 'favourites_count': 235, 'utc_offset': None, 'time_zone': None, 'geo_enabled': False, 'verified': False, 'statuses_count': 930, 'lang': None, 'contributors_enabled': False, 'is_translator': False, 'is_translation_enabled': False, 'profile_background_color': 'F5F8FA', 'profile_background_image_url': None, 'profile_background_image_url_https': None, 'profile_background_tile': False, 'profile_image_url': 'http://pbs.twimg.com/profile_images/1278804225368231937/6tXwQjDI_normal.jpg', 'profile_image_url_https': 'https://pbs.twimg.com/profile_images/1278804225368231937/6tXwQjDI_normal.jpg', 'profile_banner_url': 'https://pbs.twimg.com/profile_banners/1267323011021058048/1603596943', 'profile_link_color': '1DA1F2', 'profile_sidebar_border_color': 'C0DEED', 'profile_sidebar_fill_color': 'DDEEF6', 'profile_text_color': '333333', 'profile_use_background_image': True, 'has_extended_profile': False, 'default_profile': True, 'default_profile_image': False, 'following': False, 'follow_request_sent': False, 'notifications': False, 'translator_type': 'none'}, id=1267323011021058048, id_str='1267323011021058048', name='Fun88India', screen_name='Fun88India', location='', description=\"Hi there! At Fun88 India, it's all about sports news and having lots of fun! So we spice it up and stir it up!\", url='https://t.co/693zUvkUaA', entities={'url': {'urls': [{'url': 'https://t.co/693zUvkUaA', 'expanded_url': 'http://www.fun88.net', 'display_url': 'fun88.net', 'indices': [0, 23]}]}, 'description': {'urls': []}}, protected=False, followers_count=210, friends_count=15, listed_count=0, created_at=datetime.datetime(2020, 6, 1, 5, 13, 12), favourites_count=235, utc_offset=None, time_zone=None, geo_enabled=False, verified=False, statuses_count=930, lang=None, contributors_enabled=False, is_translator=False, is_translation_enabled=False, profile_background_color='F5F8FA', profile_background_image_url=None, profile_background_image_url_https=None, profile_background_tile=False, profile_image_url='http://pbs.twimg.com/profile_images/1278804225368231937/6tXwQjDI_normal.jpg', profile_image_url_https='https://pbs.twimg.com/profile_images/1278804225368231937/6tXwQjDI_normal.jpg', profile_banner_url='https://pbs.twimg.com/profile_banners/1267323011021058048/1603596943', profile_link_color='1DA1F2', profile_sidebar_border_color='C0DEED', profile_sidebar_fill_color='DDEEF6', profile_text_color='333333', profile_use_background_image=True, has_extended_profile=False, default_profile=True, default_profile_image=False, following=False, follow_request_sent=False, notifications=False, translator_type='none'), user=User(_api=<tweepy.api.API object at 0x0000000008803948>, _json={'id': 1267323011021058048, 'id_str': '1267323011021058048', 'name': 'Fun88India', 'screen_name': 'Fun88India', 'location': '', 'description': \"Hi there! At Fun88 India, it's all about sports news and having lots of fun! So we spice it up and stir it up!\", 'url': 'https://t.co/693zUvkUaA', 'entities': {'url': {'urls': [{'url': 'https://t.co/693zUvkUaA', 'expanded_url': 'http://www.fun88.net', 'display_url': 'fun88.net', 'indices': [0, 23]}]}, 'description': {'urls': []}}, 'protected': False, 'followers_count': 210, 'friends_count': 15, 'listed_count': 0, 'created_at': 'Mon Jun 01 05:13:12 +0000 2020', 'favourites_count': 235, 'utc_offset': None, 'time_zone': None, 'geo_enabled': False, 'verified': False, 'statuses_count': 930, 'lang': None, 'contributors_enabled': False, 'is_translator': False, 'is_translation_enabled': False, 'profile_background_color': 'F5F8FA', 'profile_background_image_url': None, 'profile_background_image_url_https': None, 'profile_background_tile': False, 'profile_image_url': 'http://pbs.twimg.com/profile_images/1278804225368231937/6tXwQjDI_normal.jpg', 'profile_image_url_https': 'https://pbs.twimg.com/profile_images/1278804225368231937/6tXwQjDI_normal.jpg', 'profile_banner_url': 'https://pbs.twimg.com/profile_banners/1267323011021058048/1603596943', 'profile_link_color': '1DA1F2', 'profile_sidebar_border_color': 'C0DEED', 'profile_sidebar_fill_color': 'DDEEF6', 'profile_text_color': '333333', 'profile_use_background_image': True, 'has_extended_profile': False, 'default_profile': True, 'default_profile_image': False, 'following': False, 'follow_request_sent': False, 'notifications': False, 'translator_type': 'none'}, id=1267323011021058048, id_str='1267323011021058048', name='Fun88India', screen_name='Fun88India', location='', description=\"Hi there! At Fun88 India, it's all about sports news and having lots of fun! So we spice it up and stir it up!\", url='https://t.co/693zUvkUaA', entities={'url': {'urls': [{'url': 'https://t.co/693zUvkUaA', 'expanded_url': 'http://www.fun88.net', 'display_url': 'fun88.net', 'indices': [0, 23]}]}, 'description': {'urls': []}}, protected=False, followers_count=210, friends_count=15, listed_count=0, created_at=datetime.datetime(2020, 6, 1, 5, 13, 12), favourites_count=235, utc_offset=None, time_zone=None, geo_enabled=False, verified=False, statuses_count=930, lang=None, contributors_enabled=False, is_translator=False, is_translation_enabled=False, profile_background_color='F5F8FA', profile_background_image_url=None, profile_background_image_url_https=None, profile_background_tile=False, profile_image_url='http://pbs.twimg.com/profile_images/1278804225368231937/6tXwQjDI_normal.jpg', profile_image_url_https='https://pbs.twimg.com/profile_images/1278804225368231937/6tXwQjDI_normal.jpg', profile_banner_url='https://pbs.twimg.com/profile_banners/1267323011021058048/1603596943', profile_link_color='1DA1F2', profile_sidebar_border_color='C0DEED', profile_sidebar_fill_color='DDEEF6', profile_text_color='333333', profile_use_background_image=True, has_extended_profile=False, default_profile=True, default_profile_image=False, following=False, follow_request_sent=False, notifications=False, translator_type='none'), geo=None, coordinates=None, place=None, contributors=None, is_quote_status=False, retweet_count=0, favorite_count=0, favorited=False, retweeted=False, possibly_sensitive=False, lang='en') \n",
      "\n",
      ".....................................\n",
      "\n",
      "Status(_api=<tweepy.api.API object at 0x0000000008803948>, _json={'created_at': 'Sat Oct 31 10:58:33 +0000 2020', 'id': 1322493155816611840, 'id_str': '1322493155816611840', 'full_text': '@ChopServe Mumbai Indians will win by 8 wickets\\n#MI\\xa0￼ #DC #ipl #ipl2020\\xa0￼  #contest #giveawaycontest', 'truncated': False, 'display_text_range': [11, 100], 'entities': {'hashtags': [{'text': 'MI', 'indices': [48, 51]}, {'text': 'DC', 'indices': [54, 57]}, {'text': 'ipl', 'indices': [58, 62]}, {'text': 'ipl2020', 'indices': [63, 71]}, {'text': 'contest', 'indices': [75, 83]}, {'text': 'giveawaycontest', 'indices': [84, 100]}], 'symbols': [], 'user_mentions': [{'screen_name': 'ChopServe', 'name': 'ChopServe', 'id': 970703069435518977, 'id_str': '970703069435518977', 'indices': [0, 10]}], 'urls': []}, 'metadata': {'iso_language_code': 'en', 'result_type': 'recent'}, 'source': '<a href=\"http://twitter.com/download/iphone\" rel=\"nofollow\">Twitter for iPhone</a>', 'in_reply_to_status_id': 1322414688756404224, 'in_reply_to_status_id_str': '1322414688756404224', 'in_reply_to_user_id': 970703069435518977, 'in_reply_to_user_id_str': '970703069435518977', 'in_reply_to_screen_name': 'ChopServe', 'user': {'id': 124517092, 'id_str': '124517092', 'name': 'Narendra Nekkanti', 'screen_name': 'nekkantitsayz', 'location': 'Hyderabad, India', 'description': 'ITTechie, Film lover', 'url': 'https://t.co/sWuGkxifmp', 'entities': {'url': {'urls': [{'url': 'https://t.co/sWuGkxifmp', 'expanded_url': 'https://twitter.com/narensayz', 'display_url': 'twitter.com/narensayz', 'indices': [0, 23]}]}, 'description': {'urls': []}}, 'protected': False, 'followers_count': 793, 'friends_count': 3673, 'listed_count': 15, 'created_at': 'Fri Mar 19 17:11:57 +0000 2010', 'favourites_count': 79835, 'utc_offset': None, 'time_zone': None, 'geo_enabled': False, 'verified': False, 'statuses_count': 84757, 'lang': None, 'contributors_enabled': False, 'is_translator': False, 'is_translation_enabled': False, 'profile_background_color': 'C6E2EE', 'profile_background_image_url': 'http://abs.twimg.com/images/themes/theme2/bg.gif', 'profile_background_image_url_https': 'https://abs.twimg.com/images/themes/theme2/bg.gif', 'profile_background_tile': False, 'profile_image_url': 'http://pbs.twimg.com/profile_images/585983282375860224/V8z87wma_normal.jpg', 'profile_image_url_https': 'https://pbs.twimg.com/profile_images/585983282375860224/V8z87wma_normal.jpg', 'profile_banner_url': 'https://pbs.twimg.com/profile_banners/124517092/1452988361', 'profile_link_color': '1F98C7', 'profile_sidebar_border_color': 'C6E2EE', 'profile_sidebar_fill_color': 'DAECF4', 'profile_text_color': '663B12', 'profile_use_background_image': True, 'has_extended_profile': True, 'default_profile': False, 'default_profile_image': False, 'following': False, 'follow_request_sent': False, 'notifications': False, 'translator_type': 'none'}, 'geo': None, 'coordinates': None, 'place': None, 'contributors': None, 'is_quote_status': False, 'retweet_count': 0, 'favorite_count': 1, 'favorited': False, 'retweeted': False, 'lang': 'en'}, created_at=datetime.datetime(2020, 10, 31, 10, 58, 33), id=1322493155816611840, id_str='1322493155816611840', full_text='@ChopServe Mumbai Indians will win by 8 wickets\\n#MI\\xa0￼ #DC #ipl #ipl2020\\xa0￼  #contest #giveawaycontest', truncated=False, display_text_range=[11, 100], entities={'hashtags': [{'text': 'MI', 'indices': [48, 51]}, {'text': 'DC', 'indices': [54, 57]}, {'text': 'ipl', 'indices': [58, 62]}, {'text': 'ipl2020', 'indices': [63, 71]}, {'text': 'contest', 'indices': [75, 83]}, {'text': 'giveawaycontest', 'indices': [84, 100]}], 'symbols': [], 'user_mentions': [{'screen_name': 'ChopServe', 'name': 'ChopServe', 'id': 970703069435518977, 'id_str': '970703069435518977', 'indices': [0, 10]}], 'urls': []}, metadata={'iso_language_code': 'en', 'result_type': 'recent'}, source='Twitter for iPhone', source_url='http://twitter.com/download/iphone', in_reply_to_status_id=1322414688756404224, in_reply_to_status_id_str='1322414688756404224', in_reply_to_user_id=970703069435518977, in_reply_to_user_id_str='970703069435518977', in_reply_to_screen_name='ChopServe', author=User(_api=<tweepy.api.API object at 0x0000000008803948>, _json={'id': 124517092, 'id_str': '124517092', 'name': 'Narendra Nekkanti', 'screen_name': 'nekkantitsayz', 'location': 'Hyderabad, India', 'description': 'ITTechie, Film lover', 'url': 'https://t.co/sWuGkxifmp', 'entities': {'url': {'urls': [{'url': 'https://t.co/sWuGkxifmp', 'expanded_url': 'https://twitter.com/narensayz', 'display_url': 'twitter.com/narensayz', 'indices': [0, 23]}]}, 'description': {'urls': []}}, 'protected': False, 'followers_count': 793, 'friends_count': 3673, 'listed_count': 15, 'created_at': 'Fri Mar 19 17:11:57 +0000 2010', 'favourites_count': 79835, 'utc_offset': None, 'time_zone': None, 'geo_enabled': False, 'verified': False, 'statuses_count': 84757, 'lang': None, 'contributors_enabled': False, 'is_translator': False, 'is_translation_enabled': False, 'profile_background_color': 'C6E2EE', 'profile_background_image_url': 'http://abs.twimg.com/images/themes/theme2/bg.gif', 'profile_background_image_url_https': 'https://abs.twimg.com/images/themes/theme2/bg.gif', 'profile_background_tile': False, 'profile_image_url': 'http://pbs.twimg.com/profile_images/585983282375860224/V8z87wma_normal.jpg', 'profile_image_url_https': 'https://pbs.twimg.com/profile_images/585983282375860224/V8z87wma_normal.jpg', 'profile_banner_url': 'https://pbs.twimg.com/profile_banners/124517092/1452988361', 'profile_link_color': '1F98C7', 'profile_sidebar_border_color': 'C6E2EE', 'profile_sidebar_fill_color': 'DAECF4', 'profile_text_color': '663B12', 'profile_use_background_image': True, 'has_extended_profile': True, 'default_profile': False, 'default_profile_image': False, 'following': False, 'follow_request_sent': False, 'notifications': False, 'translator_type': 'none'}, id=124517092, id_str='124517092', name='Narendra Nekkanti', screen_name='nekkantitsayz', location='Hyderabad, India', description='ITTechie, Film lover', url='https://t.co/sWuGkxifmp', entities={'url': {'urls': [{'url': 'https://t.co/sWuGkxifmp', 'expanded_url': 'https://twitter.com/narensayz', 'display_url': 'twitter.com/narensayz', 'indices': [0, 23]}]}, 'description': {'urls': []}}, protected=False, followers_count=793, friends_count=3673, listed_count=15, created_at=datetime.datetime(2010, 3, 19, 17, 11, 57), favourites_count=79835, utc_offset=None, time_zone=None, geo_enabled=False, verified=False, statuses_count=84757, lang=None, contributors_enabled=False, is_translator=False, is_translation_enabled=False, profile_background_color='C6E2EE', profile_background_image_url='http://abs.twimg.com/images/themes/theme2/bg.gif', profile_background_image_url_https='https://abs.twimg.com/images/themes/theme2/bg.gif', profile_background_tile=False, profile_image_url='http://pbs.twimg.com/profile_images/585983282375860224/V8z87wma_normal.jpg', profile_image_url_https='https://pbs.twimg.com/profile_images/585983282375860224/V8z87wma_normal.jpg', profile_banner_url='https://pbs.twimg.com/profile_banners/124517092/1452988361', profile_link_color='1F98C7', profile_sidebar_border_color='C6E2EE', profile_sidebar_fill_color='DAECF4', profile_text_color='663B12', profile_use_background_image=True, has_extended_profile=True, default_profile=False, default_profile_image=False, following=False, follow_request_sent=False, notifications=False, translator_type='none'), user=User(_api=<tweepy.api.API object at 0x0000000008803948>, _json={'id': 124517092, 'id_str': '124517092', 'name': 'Narendra Nekkanti', 'screen_name': 'nekkantitsayz', 'location': 'Hyderabad, India', 'description': 'ITTechie, Film lover', 'url': 'https://t.co/sWuGkxifmp', 'entities': {'url': {'urls': [{'url': 'https://t.co/sWuGkxifmp', 'expanded_url': 'https://twitter.com/narensayz', 'display_url': 'twitter.com/narensayz', 'indices': [0, 23]}]}, 'description': {'urls': []}}, 'protected': False, 'followers_count': 793, 'friends_count': 3673, 'listed_count': 15, 'created_at': 'Fri Mar 19 17:11:57 +0000 2010', 'favourites_count': 79835, 'utc_offset': None, 'time_zone': None, 'geo_enabled': False, 'verified': False, 'statuses_count': 84757, 'lang': None, 'contributors_enabled': False, 'is_translator': False, 'is_translation_enabled': False, 'profile_background_color': 'C6E2EE', 'profile_background_image_url': 'http://abs.twimg.com/images/themes/theme2/bg.gif', 'profile_background_image_url_https': 'https://abs.twimg.com/images/themes/theme2/bg.gif', 'profile_background_tile': False, 'profile_image_url': 'http://pbs.twimg.com/profile_images/585983282375860224/V8z87wma_normal.jpg', 'profile_image_url_https': 'https://pbs.twimg.com/profile_images/585983282375860224/V8z87wma_normal.jpg', 'profile_banner_url': 'https://pbs.twimg.com/profile_banners/124517092/1452988361', 'profile_link_color': '1F98C7', 'profile_sidebar_border_color': 'C6E2EE', 'profile_sidebar_fill_color': 'DAECF4', 'profile_text_color': '663B12', 'profile_use_background_image': True, 'has_extended_profile': True, 'default_profile': False, 'default_profile_image': False, 'following': False, 'follow_request_sent': False, 'notifications': False, 'translator_type': 'none'}, id=124517092, id_str='124517092', name='Narendra Nekkanti', screen_name='nekkantitsayz', location='Hyderabad, India', description='ITTechie, Film lover', url='https://t.co/sWuGkxifmp', entities={'url': {'urls': [{'url': 'https://t.co/sWuGkxifmp', 'expanded_url': 'https://twitter.com/narensayz', 'display_url': 'twitter.com/narensayz', 'indices': [0, 23]}]}, 'description': {'urls': []}}, protected=False, followers_count=793, friends_count=3673, listed_count=15, created_at=datetime.datetime(2010, 3, 19, 17, 11, 57), favourites_count=79835, utc_offset=None, time_zone=None, geo_enabled=False, verified=False, statuses_count=84757, lang=None, contributors_enabled=False, is_translator=False, is_translation_enabled=False, profile_background_color='C6E2EE', profile_background_image_url='http://abs.twimg.com/images/themes/theme2/bg.gif', profile_background_image_url_https='https://abs.twimg.com/images/themes/theme2/bg.gif', profile_background_tile=False, profile_image_url='http://pbs.twimg.com/profile_images/585983282375860224/V8z87wma_normal.jpg', profile_image_url_https='https://pbs.twimg.com/profile_images/585983282375860224/V8z87wma_normal.jpg', profile_banner_url='https://pbs.twimg.com/profile_banners/124517092/1452988361', profile_link_color='1F98C7', profile_sidebar_border_color='C6E2EE', profile_sidebar_fill_color='DAECF4', profile_text_color='663B12', profile_use_background_image=True, has_extended_profile=True, default_profile=False, default_profile_image=False, following=False, follow_request_sent=False, notifications=False, translator_type='none'), geo=None, coordinates=None, place=None, contributors=None, is_quote_status=False, retweet_count=0, favorite_count=1, favorited=False, retweeted=False, lang='en') \n",
      "\n",
      ".....................................\n",
      "\n",
      "Status(_api=<tweepy.api.API object at 0x0000000008803948>, _json={'created_at': 'Sat Oct 31 10:56:20 +0000 2020', 'id': 1322492595306602496, 'id_str': '1322492595306602496', 'full_text': \"@IPL @ameyatilak Today's match will win Mumbai Indians 🥳\", 'truncated': False, 'display_text_range': [17, 56], 'entities': {'hashtags': [], 'symbols': [], 'user_mentions': [{'screen_name': 'IPL', 'name': 'IndianPremierLeague', 'id': 15639696, 'id_str': '15639696', 'indices': [0, 4]}, {'screen_name': 'ameyatilak', 'name': 'Ameya Tilak', 'id': 182067963, 'id_str': '182067963', 'indices': [5, 16]}], 'urls': []}, 'metadata': {'iso_language_code': 'en', 'result_type': 'recent'}, 'source': '<a href=\"http://twitter.com/download/android\" rel=\"nofollow\">Twitter for Android</a>', 'in_reply_to_status_id': 1322425571918319616, 'in_reply_to_status_id_str': '1322425571918319616', 'in_reply_to_user_id': 15639696, 'in_reply_to_user_id_str': '15639696', 'in_reply_to_screen_name': 'IPL', 'user': {'id': 1297104388012380160, 'id_str': '1297104388012380160', 'name': 'Aryan Choudhary', 'screen_name': 'iamradhe18', 'location': '', 'description': 'welcome to my world 😎\\n🙏 Respect girls 🙏\\n🤗 always happy 🤗', 'url': None, 'entities': {'description': {'urls': []}}, 'protected': False, 'followers_count': 7, 'friends_count': 35, 'listed_count': 0, 'created_at': 'Sat Aug 22 09:38:46 +0000 2020', 'favourites_count': 3035, 'utc_offset': None, 'time_zone': None, 'geo_enabled': False, 'verified': False, 'statuses_count': 654, 'lang': None, 'contributors_enabled': False, 'is_translator': False, 'is_translation_enabled': False, 'profile_background_color': 'F5F8FA', 'profile_background_image_url': None, 'profile_background_image_url_https': None, 'profile_background_tile': False, 'profile_image_url': 'http://pbs.twimg.com/profile_images/1322169163201142786/wBjHqqtT_normal.jpg', 'profile_image_url_https': 'https://pbs.twimg.com/profile_images/1322169163201142786/wBjHqqtT_normal.jpg', 'profile_banner_url': 'https://pbs.twimg.com/profile_banners/1297104388012380160/1598807410', 'profile_link_color': '1DA1F2', 'profile_sidebar_border_color': 'C0DEED', 'profile_sidebar_fill_color': 'DDEEF6', 'profile_text_color': '333333', 'profile_use_background_image': True, 'has_extended_profile': True, 'default_profile': True, 'default_profile_image': False, 'following': False, 'follow_request_sent': False, 'notifications': False, 'translator_type': 'none'}, 'geo': None, 'coordinates': None, 'place': None, 'contributors': None, 'is_quote_status': False, 'retweet_count': 0, 'favorite_count': 0, 'favorited': False, 'retweeted': False, 'lang': 'en'}, created_at=datetime.datetime(2020, 10, 31, 10, 56, 20), id=1322492595306602496, id_str='1322492595306602496', full_text=\"@IPL @ameyatilak Today's match will win Mumbai Indians 🥳\", truncated=False, display_text_range=[17, 56], entities={'hashtags': [], 'symbols': [], 'user_mentions': [{'screen_name': 'IPL', 'name': 'IndianPremierLeague', 'id': 15639696, 'id_str': '15639696', 'indices': [0, 4]}, {'screen_name': 'ameyatilak', 'name': 'Ameya Tilak', 'id': 182067963, 'id_str': '182067963', 'indices': [5, 16]}], 'urls': []}, metadata={'iso_language_code': 'en', 'result_type': 'recent'}, source='Twitter for Android', source_url='http://twitter.com/download/android', in_reply_to_status_id=1322425571918319616, in_reply_to_status_id_str='1322425571918319616', in_reply_to_user_id=15639696, in_reply_to_user_id_str='15639696', in_reply_to_screen_name='IPL', author=User(_api=<tweepy.api.API object at 0x0000000008803948>, _json={'id': 1297104388012380160, 'id_str': '1297104388012380160', 'name': 'Aryan Choudhary', 'screen_name': 'iamradhe18', 'location': '', 'description': 'welcome to my world 😎\\n🙏 Respect girls 🙏\\n🤗 always happy 🤗', 'url': None, 'entities': {'description': {'urls': []}}, 'protected': False, 'followers_count': 7, 'friends_count': 35, 'listed_count': 0, 'created_at': 'Sat Aug 22 09:38:46 +0000 2020', 'favourites_count': 3035, 'utc_offset': None, 'time_zone': None, 'geo_enabled': False, 'verified': False, 'statuses_count': 654, 'lang': None, 'contributors_enabled': False, 'is_translator': False, 'is_translation_enabled': False, 'profile_background_color': 'F5F8FA', 'profile_background_image_url': None, 'profile_background_image_url_https': None, 'profile_background_tile': False, 'profile_image_url': 'http://pbs.twimg.com/profile_images/1322169163201142786/wBjHqqtT_normal.jpg', 'profile_image_url_https': 'https://pbs.twimg.com/profile_images/1322169163201142786/wBjHqqtT_normal.jpg', 'profile_banner_url': 'https://pbs.twimg.com/profile_banners/1297104388012380160/1598807410', 'profile_link_color': '1DA1F2', 'profile_sidebar_border_color': 'C0DEED', 'profile_sidebar_fill_color': 'DDEEF6', 'profile_text_color': '333333', 'profile_use_background_image': True, 'has_extended_profile': True, 'default_profile': True, 'default_profile_image': False, 'following': False, 'follow_request_sent': False, 'notifications': False, 'translator_type': 'none'}, id=1297104388012380160, id_str='1297104388012380160', name='Aryan Choudhary', screen_name='iamradhe18', location='', description='welcome to my world 😎\\n🙏 Respect girls 🙏\\n🤗 always happy 🤗', url=None, entities={'description': {'urls': []}}, protected=False, followers_count=7, friends_count=35, listed_count=0, created_at=datetime.datetime(2020, 8, 22, 9, 38, 46), favourites_count=3035, utc_offset=None, time_zone=None, geo_enabled=False, verified=False, statuses_count=654, lang=None, contributors_enabled=False, is_translator=False, is_translation_enabled=False, profile_background_color='F5F8FA', profile_background_image_url=None, profile_background_image_url_https=None, profile_background_tile=False, profile_image_url='http://pbs.twimg.com/profile_images/1322169163201142786/wBjHqqtT_normal.jpg', profile_image_url_https='https://pbs.twimg.com/profile_images/1322169163201142786/wBjHqqtT_normal.jpg', profile_banner_url='https://pbs.twimg.com/profile_banners/1297104388012380160/1598807410', profile_link_color='1DA1F2', profile_sidebar_border_color='C0DEED', profile_sidebar_fill_color='DDEEF6', profile_text_color='333333', profile_use_background_image=True, has_extended_profile=True, default_profile=True, default_profile_image=False, following=False, follow_request_sent=False, notifications=False, translator_type='none'), user=User(_api=<tweepy.api.API object at 0x0000000008803948>, _json={'id': 1297104388012380160, 'id_str': '1297104388012380160', 'name': 'Aryan Choudhary', 'screen_name': 'iamradhe18', 'location': '', 'description': 'welcome to my world 😎\\n🙏 Respect girls 🙏\\n🤗 always happy 🤗', 'url': None, 'entities': {'description': {'urls': []}}, 'protected': False, 'followers_count': 7, 'friends_count': 35, 'listed_count': 0, 'created_at': 'Sat Aug 22 09:38:46 +0000 2020', 'favourites_count': 3035, 'utc_offset': None, 'time_zone': None, 'geo_enabled': False, 'verified': False, 'statuses_count': 654, 'lang': None, 'contributors_enabled': False, 'is_translator': False, 'is_translation_enabled': False, 'profile_background_color': 'F5F8FA', 'profile_background_image_url': None, 'profile_background_image_url_https': None, 'profile_background_tile': False, 'profile_image_url': 'http://pbs.twimg.com/profile_images/1322169163201142786/wBjHqqtT_normal.jpg', 'profile_image_url_https': 'https://pbs.twimg.com/profile_images/1322169163201142786/wBjHqqtT_normal.jpg', 'profile_banner_url': 'https://pbs.twimg.com/profile_banners/1297104388012380160/1598807410', 'profile_link_color': '1DA1F2', 'profile_sidebar_border_color': 'C0DEED', 'profile_sidebar_fill_color': 'DDEEF6', 'profile_text_color': '333333', 'profile_use_background_image': True, 'has_extended_profile': True, 'default_profile': True, 'default_profile_image': False, 'following': False, 'follow_request_sent': False, 'notifications': False, 'translator_type': 'none'}, id=1297104388012380160, id_str='1297104388012380160', name='Aryan Choudhary', screen_name='iamradhe18', location='', description='welcome to my world 😎\\n🙏 Respect girls 🙏\\n🤗 always happy 🤗', url=None, entities={'description': {'urls': []}}, protected=False, followers_count=7, friends_count=35, listed_count=0, created_at=datetime.datetime(2020, 8, 22, 9, 38, 46), favourites_count=3035, utc_offset=None, time_zone=None, geo_enabled=False, verified=False, statuses_count=654, lang=None, contributors_enabled=False, is_translator=False, is_translation_enabled=False, profile_background_color='F5F8FA', profile_background_image_url=None, profile_background_image_url_https=None, profile_background_tile=False, profile_image_url='http://pbs.twimg.com/profile_images/1322169163201142786/wBjHqqtT_normal.jpg', profile_image_url_https='https://pbs.twimg.com/profile_images/1322169163201142786/wBjHqqtT_normal.jpg', profile_banner_url='https://pbs.twimg.com/profile_banners/1297104388012380160/1598807410', profile_link_color='1DA1F2', profile_sidebar_border_color='C0DEED', profile_sidebar_fill_color='DDEEF6', profile_text_color='333333', profile_use_background_image=True, has_extended_profile=True, default_profile=True, default_profile_image=False, following=False, follow_request_sent=False, notifications=False, translator_type='none'), geo=None, coordinates=None, place=None, contributors=None, is_quote_status=False, retweet_count=0, favorite_count=0, favorited=False, retweeted=False, lang='en') \n",
      "\n",
      ".....................................\n",
      "\n"
     ]
    }
   ],
   "source": [
    "# Searching and getting the latest tweets about the query (Mumbai Indians will win IPL)\n",
    "Tweets = api.search( \"Mumbai Indians will win IPL\" , count=10 , lang='en' , exclude='retweets' , tweet_mode='extended' )\n",
    "for tweet in Tweets:\n",
    "    print(tweet,\"\\n\")\n",
    "    print(\".....................................\\n\")\n"
   ]
  },
  {
   "cell_type": "code",
   "execution_count": 7,
   "metadata": {},
   "outputs": [
    {
     "name": "stdout",
     "output_type": "stream",
     "text": [
      "Empty DataFrame\n",
      "Columns: [Tweets, User, User_statuses_count, User_followers, User_location, User_verified, fav_count, rt_count, tweet_date]\n",
      "Index: []\n"
     ]
    }
   ],
   "source": [
    "# Get the tweets and some Attributes in a dataframe\n",
    "df = pd.DataFrame(columns = ['Tweets' , 'User' , 'User_statuses_count' , \n",
    "                            'User_followers' , 'User_location' , 'User_verified' ,\n",
    "                            'fav_count' , 'rt_count' , 'tweet_date'] )\n",
    "print(df)"
   ]
  },
  {
   "cell_type": "code",
   "execution_count": 8,
   "metadata": {},
   "outputs": [],
   "source": [
    "# function to fetch data using tweepy.Cursor and store the data (Max=1000 records)\n",
    "def stream(data, file_name):\n",
    "    i = 0\n",
    "    for tweet in tweepy.Cursor(api.search, q=data, count=100, exclude='retweets', lang='en').items():\n",
    "        print('Tweets:',i, end='\\r')\n",
    "        df.loc[i, 'Tweets'] = tweet.text\n",
    "        df.loc[i, 'User'] = tweet.user.name\n",
    "        df.loc[i, 'User_statuses_count'] = tweet.user.statuses_count\n",
    "        df.loc[i, 'User_followers'] = tweet.user.followers_count\n",
    "        df.loc[i, 'User_location'] = tweet.user.location\n",
    "        df.loc[i, 'User_verified'] = tweet.user.verified\n",
    "        df.loc[i, 'fav_count'] = tweet.favorite_count\n",
    "        df.loc[i, 'rt_count'] = tweet.retweet_count\n",
    "        df.loc[i, 'tweet_date'] = tweet.created_at\n",
    "        df.to_excel('{}.xlsx'.format(file_name))\n",
    "        i = i+1\n",
    "        if i == 1000:\n",
    "            break\n",
    "        else:\n",
    "            pass"
   ]
  },
  {
   "cell_type": "code",
   "execution_count": 9,
   "metadata": {},
   "outputs": [
    {
     "name": "stdout",
     "output_type": "stream",
     "text": [
      "Tweets: 121 21 3335 96\r"
     ]
    }
   ],
   "source": [
    "# Passing the search string and file name\n",
    "stream(data=[\"Mumbai Indians will win IPL\"] , file_name='MI_tweets')"
   ]
  },
  {
   "cell_type": "code",
   "execution_count": 10,
   "metadata": {},
   "outputs": [
    {
     "data": {
      "text/html": [
       "<div>\n",
       "<style scoped>\n",
       "    .dataframe tbody tr th:only-of-type {\n",
       "        vertical-align: middle;\n",
       "    }\n",
       "\n",
       "    .dataframe tbody tr th {\n",
       "        vertical-align: top;\n",
       "    }\n",
       "\n",
       "    .dataframe thead th {\n",
       "        text-align: right;\n",
       "    }\n",
       "</style>\n",
       "<table border=\"1\" class=\"dataframe\">\n",
       "  <thead>\n",
       "    <tr style=\"text-align: right;\">\n",
       "      <th></th>\n",
       "      <th>Tweets</th>\n",
       "      <th>User</th>\n",
       "      <th>User_statuses_count</th>\n",
       "      <th>User_followers</th>\n",
       "      <th>User_location</th>\n",
       "      <th>User_verified</th>\n",
       "      <th>fav_count</th>\n",
       "      <th>rt_count</th>\n",
       "      <th>tweet_date</th>\n",
       "    </tr>\n",
       "  </thead>\n",
       "  <tbody>\n",
       "    <tr>\n",
       "      <th>0</th>\n",
       "      <td>@mipaltan @MahelaJay @ImZaheer Mumbai Indians ...</td>\n",
       "      <td>Kumar</td>\n",
       "      <td>41</td>\n",
       "      <td>0</td>\n",
       "      <td></td>\n",
       "      <td>False</td>\n",
       "      <td>2</td>\n",
       "      <td>0</td>\n",
       "      <td>2020-11-01 08:04:58</td>\n",
       "    </tr>\n",
       "    <tr>\n",
       "      <th>1</th>\n",
       "      <td>Sunrisers Hyderabad have the upper hand as the...</td>\n",
       "      <td>Smriti Sinha</td>\n",
       "      <td>33951</td>\n",
       "      <td>2042</td>\n",
       "      <td>Somewhere I Belong</td>\n",
       "      <td>False</td>\n",
       "      <td>8</td>\n",
       "      <td>1</td>\n",
       "      <td>2020-10-31 17:35:26</td>\n",
       "    </tr>\n",
       "    <tr>\n",
       "      <th>2</th>\n",
       "      <td>Mumbai Indians will win this year IPL already ...</td>\n",
       "      <td>RISHABH SAHU</td>\n",
       "      <td>9</td>\n",
       "      <td>2</td>\n",
       "      <td></td>\n",
       "      <td>False</td>\n",
       "      <td>0</td>\n",
       "      <td>0</td>\n",
       "      <td>2020-10-31 17:18:49</td>\n",
       "    </tr>\n",
       "    <tr>\n",
       "      <th>3</th>\n",
       "      <td>Delhi Capitals: We will win this match and top...</td>\n",
       "      <td>shubham2345</td>\n",
       "      <td>285</td>\n",
       "      <td>2</td>\n",
       "      <td></td>\n",
       "      <td>False</td>\n",
       "      <td>0</td>\n",
       "      <td>0</td>\n",
       "      <td>2020-10-31 14:00:45</td>\n",
       "    </tr>\n",
       "    <tr>\n",
       "      <th>4</th>\n",
       "      <td>Mumbai Indians will win this year IPL</td>\n",
       "      <td>K.E.V.Y.N</td>\n",
       "      <td>14563</td>\n",
       "      <td>319</td>\n",
       "      <td>Bengaluru, Karnataka</td>\n",
       "      <td>False</td>\n",
       "      <td>1</td>\n",
       "      <td>0</td>\n",
       "      <td>2020-10-31 13:01:56</td>\n",
       "    </tr>\n",
       "  </tbody>\n",
       "</table>\n",
       "</div>"
      ],
      "text/plain": [
       "                                              Tweets          User  \\\n",
       "0  @mipaltan @MahelaJay @ImZaheer Mumbai Indians ...         Kumar   \n",
       "1  Sunrisers Hyderabad have the upper hand as the...  Smriti Sinha   \n",
       "2  Mumbai Indians will win this year IPL already ...  RISHABH SAHU   \n",
       "3  Delhi Capitals: We will win this match and top...   shubham2345   \n",
       "4              Mumbai Indians will win this year IPL     K.E.V.Y.N   \n",
       "\n",
       "  User_statuses_count User_followers         User_location User_verified  \\\n",
       "0                  41              0                               False   \n",
       "1               33951           2042    Somewhere I Belong         False   \n",
       "2                   9              2                               False   \n",
       "3                 285              2                               False   \n",
       "4               14563            319  Bengaluru, Karnataka         False   \n",
       "\n",
       "  fav_count rt_count           tweet_date  \n",
       "0         2        0  2020-11-01 08:04:58  \n",
       "1         8        1  2020-10-31 17:35:26  \n",
       "2         0        0  2020-10-31 17:18:49  \n",
       "3         0        0  2020-10-31 14:00:45  \n",
       "4         1        0  2020-10-31 13:01:56  "
      ]
     },
     "execution_count": 10,
     "metadata": {},
     "output_type": "execute_result"
    }
   ],
   "source": [
    "df.head()"
   ]
  },
  {
   "cell_type": "code",
   "execution_count": 11,
   "metadata": {},
   "outputs": [],
   "source": [
    "# Function for cleaning the tweets using regular expression.\n",
    "import re\n",
    "def clean_tweet(tweet):\n",
    "    tweet = re.sub('@\\w+',' ', tweet)             # remove @mentions\n",
    "    tweet = re.sub('\\w+:\\/\\/\\S+', ' ', tweet)      # remove links://...\n",
    "    tweet = re.sub('[^0-9a-zA-Z \\t]', ' ', tweet) # remove punctuation\n",
    "    return tweet.strip()"
   ]
  },
  {
   "cell_type": "code",
   "execution_count": 13,
   "metadata": {},
   "outputs": [
    {
     "name": "stdout",
     "output_type": "stream",
     "text": [
      "Collecting TextBlob\n",
      "  Downloading textblob-0.15.3-py2.py3-none-any.whl (636 kB)\n",
      "Requirement already satisfied: nltk>=3.1 in c:\\users\\admin\\anaconda3\\lib\\site-packages (from TextBlob) (3.4.5)\n",
      "Requirement already satisfied: six in c:\\users\\admin\\anaconda3\\lib\\site-packages (from nltk>=3.1->TextBlob) (1.14.0)\n",
      "Installing collected packages: TextBlob\n",
      "Successfully installed TextBlob-0.15.3\n"
     ]
    }
   ],
   "source": [
    "!pip install TextBlob"
   ]
  },
  {
   "cell_type": "code",
   "execution_count": 14,
   "metadata": {},
   "outputs": [],
   "source": [
    "# Function to analyze the sentiments \n",
    "from textblob import TextBlob\n",
    "def analyze_sentiment(tweet):\n",
    "    analysis = TextBlob(tweet)\n",
    "    if analysis.sentiment.polarity > 0:\n",
    "        return 'Positive'\n",
    "    elif analysis.sentiment.polarity == 0:\n",
    "        return 'Neutral'\n",
    "    else:\n",
    "        return 'Negative'"
   ]
  },
  {
   "cell_type": "code",
   "execution_count": 15,
   "metadata": {},
   "outputs": [
    {
     "data": {
      "text/html": [
       "<div>\n",
       "<style scoped>\n",
       "    .dataframe tbody tr th:only-of-type {\n",
       "        vertical-align: middle;\n",
       "    }\n",
       "\n",
       "    .dataframe tbody tr th {\n",
       "        vertical-align: top;\n",
       "    }\n",
       "\n",
       "    .dataframe thead th {\n",
       "        text-align: right;\n",
       "    }\n",
       "</style>\n",
       "<table border=\"1\" class=\"dataframe\">\n",
       "  <thead>\n",
       "    <tr style=\"text-align: right;\">\n",
       "      <th></th>\n",
       "      <th>Tweets</th>\n",
       "      <th>clean_tweet</th>\n",
       "    </tr>\n",
       "  </thead>\n",
       "  <tbody>\n",
       "    <tr>\n",
       "      <th>0</th>\n",
       "      <td>@mipaltan @MahelaJay @ImZaheer Mumbai Indians ...</td>\n",
       "      <td>Mumbai Indians will win this IPL</td>\n",
       "    </tr>\n",
       "    <tr>\n",
       "      <th>1</th>\n",
       "      <td>Sunrisers Hyderabad have the upper hand as the...</td>\n",
       "      <td>Sunrisers Hyderabad have the upper hand as the...</td>\n",
       "    </tr>\n",
       "    <tr>\n",
       "      <th>2</th>\n",
       "      <td>Mumbai Indians will win this year IPL already ...</td>\n",
       "      <td>Mumbai Indians will win this year IPL already ...</td>\n",
       "    </tr>\n",
       "    <tr>\n",
       "      <th>3</th>\n",
       "      <td>Delhi Capitals: We will win this match and top...</td>\n",
       "      <td>Delhi Capitals  We will win this match and top...</td>\n",
       "    </tr>\n",
       "    <tr>\n",
       "      <th>4</th>\n",
       "      <td>Mumbai Indians will win this year IPL</td>\n",
       "      <td>Mumbai Indians will win this year IPL</td>\n",
       "    </tr>\n",
       "  </tbody>\n",
       "</table>\n",
       "</div>"
      ],
      "text/plain": [
       "                                              Tweets  \\\n",
       "0  @mipaltan @MahelaJay @ImZaheer Mumbai Indians ...   \n",
       "1  Sunrisers Hyderabad have the upper hand as the...   \n",
       "2  Mumbai Indians will win this year IPL already ...   \n",
       "3  Delhi Capitals: We will win this match and top...   \n",
       "4              Mumbai Indians will win this year IPL   \n",
       "\n",
       "                                         clean_tweet  \n",
       "0                   Mumbai Indians will win this IPL  \n",
       "1  Sunrisers Hyderabad have the upper hand as the...  \n",
       "2  Mumbai Indians will win this year IPL already ...  \n",
       "3  Delhi Capitals  We will win this match and top...  \n",
       "4              Mumbai Indians will win this year IPL  "
      ]
     },
     "execution_count": 15,
     "metadata": {},
     "output_type": "execute_result"
    }
   ],
   "source": [
    "# Cleaning the tweets\n",
    "df['clean_tweet'] = df['Tweets'].apply(lambda x : clean_tweet(x))\n",
    "df[['Tweets', 'clean_tweet']].head()"
   ]
  },
  {
   "cell_type": "code",
   "execution_count": 16,
   "metadata": {},
   "outputs": [
    {
     "data": {
      "text/html": [
       "<div>\n",
       "<style scoped>\n",
       "    .dataframe tbody tr th:only-of-type {\n",
       "        vertical-align: middle;\n",
       "    }\n",
       "\n",
       "    .dataframe tbody tr th {\n",
       "        vertical-align: top;\n",
       "    }\n",
       "\n",
       "    .dataframe thead th {\n",
       "        text-align: right;\n",
       "    }\n",
       "</style>\n",
       "<table border=\"1\" class=\"dataframe\">\n",
       "  <thead>\n",
       "    <tr style=\"text-align: right;\">\n",
       "      <th></th>\n",
       "      <th>Tweets</th>\n",
       "      <th>User</th>\n",
       "      <th>User_statuses_count</th>\n",
       "      <th>User_followers</th>\n",
       "      <th>User_location</th>\n",
       "      <th>User_verified</th>\n",
       "      <th>fav_count</th>\n",
       "      <th>rt_count</th>\n",
       "      <th>tweet_date</th>\n",
       "      <th>clean_tweet</th>\n",
       "      <th>Sentiment</th>\n",
       "    </tr>\n",
       "  </thead>\n",
       "  <tbody>\n",
       "    <tr>\n",
       "      <th>0</th>\n",
       "      <td>@mipaltan @MahelaJay @ImZaheer Mumbai Indians ...</td>\n",
       "      <td>Kumar</td>\n",
       "      <td>41</td>\n",
       "      <td>0</td>\n",
       "      <td></td>\n",
       "      <td>False</td>\n",
       "      <td>2</td>\n",
       "      <td>0</td>\n",
       "      <td>2020-11-01 08:04:58</td>\n",
       "      <td>Mumbai Indians will win this IPL</td>\n",
       "      <td>Positive</td>\n",
       "    </tr>\n",
       "    <tr>\n",
       "      <th>1</th>\n",
       "      <td>Sunrisers Hyderabad have the upper hand as the...</td>\n",
       "      <td>Smriti Sinha</td>\n",
       "      <td>33951</td>\n",
       "      <td>2042</td>\n",
       "      <td>Somewhere I Belong</td>\n",
       "      <td>False</td>\n",
       "      <td>8</td>\n",
       "      <td>1</td>\n",
       "      <td>2020-10-31 17:35:26</td>\n",
       "      <td>Sunrisers Hyderabad have the upper hand as the...</td>\n",
       "      <td>Positive</td>\n",
       "    </tr>\n",
       "    <tr>\n",
       "      <th>2</th>\n",
       "      <td>Mumbai Indians will win this year IPL already ...</td>\n",
       "      <td>RISHABH SAHU</td>\n",
       "      <td>9</td>\n",
       "      <td>2</td>\n",
       "      <td></td>\n",
       "      <td>False</td>\n",
       "      <td>0</td>\n",
       "      <td>0</td>\n",
       "      <td>2020-10-31 17:18:49</td>\n",
       "      <td>Mumbai Indians will win this year IPL already ...</td>\n",
       "      <td>Positive</td>\n",
       "    </tr>\n",
       "    <tr>\n",
       "      <th>3</th>\n",
       "      <td>Delhi Capitals: We will win this match and top...</td>\n",
       "      <td>shubham2345</td>\n",
       "      <td>285</td>\n",
       "      <td>2</td>\n",
       "      <td></td>\n",
       "      <td>False</td>\n",
       "      <td>0</td>\n",
       "      <td>0</td>\n",
       "      <td>2020-10-31 14:00:45</td>\n",
       "      <td>Delhi Capitals  We will win this match and top...</td>\n",
       "      <td>Positive</td>\n",
       "    </tr>\n",
       "    <tr>\n",
       "      <th>4</th>\n",
       "      <td>Mumbai Indians will win this year IPL</td>\n",
       "      <td>K.E.V.Y.N</td>\n",
       "      <td>14563</td>\n",
       "      <td>319</td>\n",
       "      <td>Bengaluru, Karnataka</td>\n",
       "      <td>False</td>\n",
       "      <td>1</td>\n",
       "      <td>0</td>\n",
       "      <td>2020-10-31 13:01:56</td>\n",
       "      <td>Mumbai Indians will win this year IPL</td>\n",
       "      <td>Positive</td>\n",
       "    </tr>\n",
       "  </tbody>\n",
       "</table>\n",
       "</div>"
      ],
      "text/plain": [
       "                                              Tweets          User  \\\n",
       "0  @mipaltan @MahelaJay @ImZaheer Mumbai Indians ...         Kumar   \n",
       "1  Sunrisers Hyderabad have the upper hand as the...  Smriti Sinha   \n",
       "2  Mumbai Indians will win this year IPL already ...  RISHABH SAHU   \n",
       "3  Delhi Capitals: We will win this match and top...   shubham2345   \n",
       "4              Mumbai Indians will win this year IPL     K.E.V.Y.N   \n",
       "\n",
       "  User_statuses_count User_followers         User_location User_verified  \\\n",
       "0                  41              0                               False   \n",
       "1               33951           2042    Somewhere I Belong         False   \n",
       "2                   9              2                               False   \n",
       "3                 285              2                               False   \n",
       "4               14563            319  Bengaluru, Karnataka         False   \n",
       "\n",
       "  fav_count rt_count           tweet_date  \\\n",
       "0         2        0  2020-11-01 08:04:58   \n",
       "1         8        1  2020-10-31 17:35:26   \n",
       "2         0        0  2020-10-31 17:18:49   \n",
       "3         0        0  2020-10-31 14:00:45   \n",
       "4         1        0  2020-10-31 13:01:56   \n",
       "\n",
       "                                         clean_tweet Sentiment  \n",
       "0                   Mumbai Indians will win this IPL  Positive  \n",
       "1  Sunrisers Hyderabad have the upper hand as the...  Positive  \n",
       "2  Mumbai Indians will win this year IPL already ...  Positive  \n",
       "3  Delhi Capitals  We will win this match and top...  Positive  \n",
       "4              Mumbai Indians will win this year IPL  Positive  "
      ]
     },
     "execution_count": 16,
     "metadata": {},
     "output_type": "execute_result"
    }
   ],
   "source": [
    "# Analyze the sentiments of the tweets\n",
    "df['Sentiment'] = df['clean_tweet'].apply(lambda x : analyze_sentiment(x) )\n",
    "df.head()"
   ]
  },
  {
   "cell_type": "code",
   "execution_count": 17,
   "metadata": {},
   "outputs": [
    {
     "name": "stdout",
     "output_type": "stream",
     "text": [
      "Positive tweets: 113\n",
      "Neutral tweets: 9\n",
      "Negative tweets: 0\n"
     ]
    }
   ],
   "source": [
    "# Count of Positive, Neutral, Negative Tweets\n",
    "print('Positive tweets:', df[df.Sentiment == 'Positive'].shape[0])\n",
    "print('Neutral tweets:',  df[df.Sentiment == 'Neutral'].shape[0])\n",
    "print('Negative tweets:', df[df.Sentiment == 'Negative'].shape[0])"
   ]
  },
  {
   "cell_type": "code",
   "execution_count": 18,
   "metadata": {},
   "outputs": [
    {
     "data": {
      "image/png": "[encoded data removed]",
      "text/plain": [
       "<Figure size 432x288 with 1 Axes>"
      ]
     },
     "metadata": {},
     "output_type": "display_data"
    }
   ],
   "source": [
    "# Plotting the pie chart of the sentiments\n",
    "import matplotlib.pyplot as plt\n",
    "labels = 'Positive tweets', 'Neutral tweets', 'Negative tweets'\n",
    "sizes = [df[df.Sentiment == 'Positive'].shape[0], df[df.Sentiment == 'Neutral'].shape[0], df[df.Sentiment == 'Negative'].shape[0]]\n",
    "explode = (0, 0, 1)\n",
    "\n",
    "fig1, ax1 = plt.subplots()\n",
    "ax1.pie(sizes, explode=explode, labels=labels, autopct='%1.1f%%',\n",
    "        shadow=True, startangle=90)\n",
    "plt.show()"
   ]
  },
  {
   "cell_type": "code",
   "execution_count": 19,
   "metadata": {},
   "outputs": [
    {
     "name": "stdout",
     "output_type": "stream",
     "text": [
      "\n",
      "Original tweet:\n",
      " @mipaltan @MahelaJay @ImZaheer Mumbai Indians will win this IPL !\n",
      "\n",
      "Cleaned tweet:\n",
      " Mumbai Indians will win this IPL\n",
      "\n",
      "Sentiment:\n",
      " Positive\n"
     ]
    }
   ],
   "source": [
    "# Analyze one specific record\n",
    "n=0\n",
    "print('\\nOriginal tweet:\\n', df['Tweets'][n])\n",
    "print('\\nCleaned tweet:\\n',  df['clean_tweet'][n])\n",
    "print('\\nSentiment:\\n',      df['Sentiment'][n])"
   ]
  },
  {
   "cell_type": "code",
   "execution_count": 20,
   "metadata": {},
   "outputs": [
    {
     "name": "stdout",
     "output_type": "stream",
     "text": [
      "\n",
      "Original tweet:\n",
      " #IPL2020 Updates MI win by 9 wickets; Kishan 72 not out. For Live scores click here  https://t.co/VCdDVhMCGL \n",
      "\n",
      "#MI… https://t.co/cYEdiVXvnT\n",
      "\n",
      "Cleaned tweet:\n",
      " IPL2020 Updates MI win by 9 wickets  Kishan 72 not out  For Live scores click here       MI\n",
      "\n",
      "Sentiment:\n",
      " Positive\n"
     ]
    }
   ],
   "source": [
    "# Analyze one specific record\n",
    "n=5\n",
    "print('\\nOriginal tweet:\\n', df['Tweets'][n])\n",
    "print('\\nCleaned tweet:\\n',  df['clean_tweet'][n])\n",
    "print('\\nSentiment:\\n',      df['Sentiment'][n])"
   ]
  },
  {
   "cell_type": "code",
   "execution_count": 21,
   "metadata": {},
   "outputs": [],
   "source": [
    "# Storing the cleaned and analyzed data in the excel file\n",
    "df.to_excel('{}.xlsx'.format('MI_tweets'))"
   ]
  },
  {
   "cell_type": "code",
   "execution_count": null,
   "metadata": {},
   "outputs": [],
   "source": []
  }
 ],
 "metadata": {
  "kernelspec": {
   "display_name": "Python 3",
   "language": "python",
   "name": "python3"
  },
  "language_info": {
   "codemirror_mode": {
    "name": "ipython",
    "version": 3
   },
   "file_extension": ".py",
   "mimetype": "text/x-python",
   "name": "python",
   "nbconvert_exporter": "python",
   "pygments_lexer": "ipython3",
   "version": "3.7.6"
  }
 },
 "nbformat": 4,
 "nbformat_minor": 4
}
