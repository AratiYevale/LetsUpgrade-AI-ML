{
 "cells": [
  {
   "cell_type": "markdown",
   "metadata": {},
   "source": [
    "Question 1: Write a program to subtract two complex numbers in python."
   ]
  },
  {
   "cell_type": "code",
   "execution_count": 21,
   "metadata": {},
   "outputs": [
    {
     "name": "stdout",
     "output_type": "stream",
     "text": [
      "Addition of Two complex no  (12+30j) & (10+15j) is:  (2+15j)\n"
     ]
    }
   ],
   "source": [
    "a = 12 + 30j\n",
    "b = 10 + 15j\n",
    "c = a - b\n",
    "print(\"Addition of Two complex no \",a,\"&\",b,\"is: \",c)"
   ]
  },
  {
   "cell_type": "markdown",
   "metadata": {},
   "source": [
    "Question 2: Write a program to find the fourth root of a number."
   ]
  },
  {
   "cell_type": "code",
   "execution_count": 20,
   "metadata": {},
   "outputs": [
    {
     "name": "stdout",
     "output_type": "stream",
     "text": [
      "Fourth root of a =  3 is:  1.3160740129524924\n"
     ]
    }
   ],
   "source": [
    "a = 3\n",
    "print(\"Fourth root of a = \",a,\"is: \",a**(1/4))"
   ]
  },
  {
   "cell_type": "markdown",
   "metadata": {},
   "source": [
    "Question 3: Write a program to swap two numbers in python with the help of a temporary variable."
   ]
  },
  {
   "cell_type": "code",
   "execution_count": 5,
   "metadata": {},
   "outputs": [
    {
     "name": "stdout",
     "output_type": "stream",
     "text": [
      "Before Swap: a = 30 & b = 50\n",
      "After Swapping With Using Temporary Variable: a = 50 & b = 30\n"
     ]
    }
   ],
   "source": [
    "a = 30\n",
    "b = 50\n",
    "print(\"Before Swap: a =\",a,\"& b =\",b)\n",
    "temp = a  #Using Temporary variable\n",
    "a = b\n",
    "b = temp\n",
    "print(\"After Swapping With Using Temporary Variable: a =\",a,\"& b =\",b)"
   ]
  },
  {
   "cell_type": "markdown",
   "metadata": {},
   "source": [
    "Question 4: Write a program to swap two numbers in python without using a temporary variable"
   ]
  },
  {
   "cell_type": "code",
   "execution_count": 4,
   "metadata": {},
   "outputs": [
    {
     "name": "stdout",
     "output_type": "stream",
     "text": [
      "Before Swap: a = 30 & b = 50\n",
      "After Swapping Without Using Temporary Variable: a = 50 & b = 30\n"
     ]
    }
   ],
   "source": [
    "a = 30\n",
    "b = 50\n",
    "print(\"Before Swap: a =\",a,\"& b =\",b)\n",
    "a = a + b\n",
    "b = a - b\n",
    "a = a - b\n",
    "print(\"After Swapping Without Using Temporary Variable: a =\",a,\"& b =\",b)"
   ]
  },
  {
   "cell_type": "markdown",
   "metadata": {},
   "source": [
    "Question 5: Write a program to convert fahrenheit to kelvin and celsius both."
   ]
  },
  {
   "cell_type": "code",
   "execution_count": 11,
   "metadata": {},
   "outputs": [
    {
     "name": "stdout",
     "output_type": "stream",
     "text": [
      "Fahrenheit into celsius is :  25.0\n",
      "Fahrenheit into Kelvin is :  298.5\n"
     ]
    }
   ],
   "source": [
    "fahrenheit = 77\n",
    "celsius = (fahrenheit - 32) * 5 / 9\n",
    "kelvin = 273.5 + ((fahrenheit - 32.0) * (5.0 / 9.0))\n",
    "print(\"Fahrenheit into celsius is : \",celsius)\n",
    "print(\"Fahrenheit into Kelvin is : \",kelvin)"
   ]
  },
  {
   "cell_type": "markdown",
   "metadata": {},
   "source": [
    "Question 6: Write a program to demonstrate all the data types in python.Hint use type() function"
   ]
  },
  {
   "cell_type": "code",
   "execution_count": 19,
   "metadata": {},
   "outputs": [
    {
     "name": "stdout",
     "output_type": "stream",
     "text": [
      "<class 'str'>\n",
      "<class 'int'>\n",
      "<class 'float'>\n",
      "<class 'complex'>\n",
      "<class 'bool'>\n",
      "<class 'list'>\n",
      "<class 'tuple'>\n",
      "<class 'set'>\n",
      "<class 'range'>\n",
      "<class 'dict'>\n"
     ]
    }
   ],
   "source": [
    "a = \"Hello LetsUpgrader\"\n",
    "print(type(a))   #String Data Type\n",
    "b = 90\n",
    "print(type(b))  #Integer Data Type\n",
    "c = 20.10\n",
    "print(type(c))  #Float Data Type\n",
    "d = 20 + 14j\n",
    "print(type(d))  #Complex Data Type\n",
    "e = True\n",
    "print(type(e))  #Boolean Data Type\n",
    "f = [\"Hiii\",\"Hello\"]\n",
    "print(type(f))  #List Data Type\n",
    "g = (\"a\",\"b\",\"c\")\n",
    "print(type(g))   #Tuple Data Type\n",
    "h = {\"a\",4,\"hii\"} \n",
    "print(type(h))   #Set Data Tupe\n",
    "i = range(5)\n",
    "print(type(i))   #Range Data Type\n",
    "j = {\"name\":\"Payal\",\"age\":20}\n",
    "print(type(j))    #Dict Data Type"
   ]
  },
  {
   "cell_type": "markdown",
   "metadata": {},
   "source": [
    "Question 7: Create a Markdown cell in jupyter and list the steps discussed in the session by Dr.Darshan Ingle sir to create GitHub profile and upload Githubs Assignment link."
   ]
  },
  {
   "cell_type": "markdown",
   "metadata": {},
   "source": [
    "Step 1: Create GitHub Profile - Goto www.github.com. After thant Sign in using proper E-Mail Id.\n",
    "Step 2: After that create a Github Repository as a public and name it LetsUpgrade AI/ML click on Create Repository.\n",
    "Step 3: After creating Repository click on uploading an existing file.\n",
    "Step 4: Drag & Drop the folder of that day of assignments in that repository.\n",
    "Step 5: Copy the URL of the folder of that day and paste in the Assignment submission Form(Google Form)and then submit the form."
   ]
  },
  {
   "cell_type": "markdown",
   "metadata": {},
   "source": [
    "Thank You!!!!"
   ]
  },
  {
   "cell_type": "code",
   "execution_count": null,
   "metadata": {},
   "outputs": [],
   "source": []
  }
 ],
 "metadata": {
  "kernelspec": {
   "display_name": "Python 3",
   "language": "python",
   "name": "python3"
  },
  "language_info": {
   "codemirror_mode": {
    "name": "ipython",
    "version": 3
   },
   "file_extension": ".py",
   "mimetype": "text/x-python",
   "name": "python",
   "nbconvert_exporter": "python",
   "pygments_lexer": "ipython3",
   "version": "3.7.6"
  }
 },
 "nbformat": 4,
 "nbformat_minor": 4
}
