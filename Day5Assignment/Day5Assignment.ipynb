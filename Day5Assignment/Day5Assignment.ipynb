{
 "cells": [
  {
   "cell_type": "markdown",
   "metadata": {},
   "source": [
    "Question 1: Write a Python program to find first 20 non-even prime natural numbers."
   ]
  },
  {
   "cell_type": "code",
   "execution_count": 51,
   "metadata": {},
   "outputs": [
    {
     "name": "stdout",
     "output_type": "stream",
     "text": [
      "3 5 7 11 13 17 19 "
     ]
    }
   ],
   "source": [
    "for i in range(1,20):\n",
    "    c = 0\n",
    "    for j in range(2, (i//2+1)):\n",
    "                   if (i % j == 0):\n",
    "                       c = c + 1\n",
    "                       break\n",
    "    if c == 0 and i != 1 :\n",
    "                   if i % 2 == 1:\n",
    "                       print(i,end=\" \")\n",
    "                   "
   ]
  },
  {
   "cell_type": "markdown",
   "metadata": {},
   "source": [
    "Question 2: Write a Python program to implement 15 functions of strings."
   ]
  },
  {
   "cell_type": "code",
   "execution_count": 22,
   "metadata": {},
   "outputs": [
    {
     "name": "stdout",
     "output_type": "stream",
     "text": [
      "Welcome letsupgrader\n",
      "HELLO.\n",
      "welcome letsupgrader\n",
      "Welcome Letsupgrader\n",
      "False\n",
      "True\n",
      "2\n",
      "False\n",
      "6\n",
      "4\n",
      "True\n",
      "       hello.       \n",
      "True\n",
      "False\n",
      "True\n"
     ]
    }
   ],
   "source": [
    "string1 = \"Welcome Letsupgrader\"\n",
    "string2 = \"hello.\"\n",
    "string = \"Number123\"\n",
    "string3 = \"12345\"\n",
    "print(string1.capitalize()) #Converts the first character to upper case\n",
    "print(string2.upper())      #Converts a string into upper case\n",
    "print(string1.lower())      #Converts a string into lower case\n",
    "print(string1.title())      #Converts the first character of each word to upper case\n",
    "print(string2.isalpha())    #Returns True if all characters in the string are in the alphabet\n",
    "print(string.isalnum())     #Returns True if all characters in the string are alphanumeric\n",
    "print(string2.count('l'))   #Returns the number of times a specified value occurs in a string\n",
    "print(string2.isspace())    #Returns True if all characters in the string are whitespaces\n",
    "print(len(string2))         #Count the length of string\n",
    "print(string2.index('o'))   #Searches the string for a specified value and returns the position of where it was found\n",
    "print(string3.isdigit())    #Returns True if all characters in the string are digits\n",
    "print(string2.center(20))   #Returns a centered string\n",
    "print(string2.endswith(\".\")) #Returns true if the string ends with the specified value\n",
    "print(string1.startswith(\"Hello\"))  #Returns true if the string starts with the specified value\n",
    "print(string1.istitle())            #Returns True if the string follows the rules of a title"
   ]
  },
  {
   "cell_type": "markdown",
   "metadata": {},
   "source": [
    "Question 3: Write a Python program to check if given string is palindrome or Anagram or none of them.Display the messages accordingly to the user."
   ]
  },
  {
   "cell_type": "code",
   "execution_count": 48,
   "metadata": {},
   "outputs": [
    {
     "name": "stdout",
     "output_type": "stream",
     "text": [
      "madam Is Palindrome\n",
      "maadm is an anagram of  madam\n"
     ]
    }
   ],
   "source": [
    "s1=\"madam\"\n",
    "s2 =\"maadm\"\n",
    "rev = s1[::-1]\n",
    "if s1 == rev:\n",
    "    print(s1,\"Is Palindrome\")\n",
    "else:\n",
    "    print(s1,\"Is not palindrome\")\n",
    "if sorted(s1) == sorted(s2):\n",
    "    print(s2,\"is an anagram of \",s1)\n",
    "else:\n",
    "    print(s2,\"is not an anagram of\",s1)"
   ]
  },
  {
   "cell_type": "markdown",
   "metadata": {},
   "source": [
    "Question 4: Write a Python's user defined function that removes all the additional characters from the string and converts it finally to lower case using built-in lower().e.g: If the string is \"Dr.Darshan Ingle @AI/ML Trainer\",then the output be \"drdarshaningle aimltrainer\"."
   ]
  },
  {
   "cell_type": "code",
   "execution_count": 52,
   "metadata": {},
   "outputs": [
    {
     "name": "stdout",
     "output_type": "stream",
     "text": [
      "drdarshaningleaimltrainer"
     ]
    }
   ],
   "source": [
    "string = \"Dr. Darshan Ingle @AI/ML Trainer\"\n",
    "def removesplcase(txt):\n",
    "    for i in txt.lower():\n",
    "        if i.isalpha():\n",
    "            print(i,end=\"\")\n",
    "removesplcase(string)"
   ]
  },
  {
   "cell_type": "markdown",
   "metadata": {},
   "source": [
    "Thank You!!!!"
   ]
  },
  {
   "cell_type": "code",
   "execution_count": null,
   "metadata": {},
   "outputs": [],
   "source": []
  }
 ],
 "metadata": {
  "kernelspec": {
   "display_name": "Python 3",
   "language": "python",
   "name": "python3"
  },
  "language_info": {
   "codemirror_mode": {
    "name": "ipython",
    "version": 3
   },
   "file_extension": ".py",
   "mimetype": "text/x-python",
   "name": "python",
   "nbconvert_exporter": "python",
   "pygments_lexer": "ipython3",
   "version": "3.7.6"
  }
 },
 "nbformat": 4,
 "nbformat_minor": 4
}
