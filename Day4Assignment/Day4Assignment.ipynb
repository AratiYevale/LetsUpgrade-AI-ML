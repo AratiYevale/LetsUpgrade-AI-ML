{
 "cells": [
  {
   "cell_type": "markdown",
   "metadata": {},
   "source": [
    "Question 1: Research on whether addition,substraction,multiplication,division,floor division and modulo operators be performed on complex numbers.Based on your study,implement a python program to demonstrate these operations"
   ]
  },
  {
   "cell_type": "code",
   "execution_count": 7,
   "metadata": {},
   "outputs": [
    {
     "name": "stdout",
     "output_type": "stream",
     "text": [
      "Addition of complex numbers (12+20j) & (10+8j) is:  (22+28j)\n",
      "Substraction of complex numbers (12+20j) & (10+8j) is:  (2+12j)\n",
      "Multiplication of complex numbers (12+20j) & (10+8j) is:  (-40+296j)\n",
      "Division of complex numbers (12+20j) & (10+8j) is:  (1.707317073170732+0.6341463414634146j)\n"
     ]
    }
   ],
   "source": [
    "a = 12 + 20j\n",
    "b = 10 + 8j\n",
    "print(\"Addition of complex numbers\",a,\"&\",b,\"is: \",a+b)\n",
    "print(\"Substraction of complex numbers\",a,\"&\",b,\"is: \",a-b)\n",
    "print(\"Multiplication of complex numbers\",a,\"&\",b,\"is: \",a*b)\n",
    "print(\"Division of complex numbers\",a,\"&\",b,\"is: \",a/b)"
   ]
  },
  {
   "cell_type": "markdown",
   "metadata": {},
   "source": [
    "Floor division and modulo operations can't be perform on complex numbers."
   ]
  },
  {
   "cell_type": "markdown",
   "metadata": {},
   "source": [
    "Question 2: Research on range() functions and its parameters.Create a markdown cell and write in your own words(no copy-paste from google)what you understand about it.Implement a small program of your choice on the same."
   ]
  },
  {
   "cell_type": "markdown",
   "metadata": {},
   "source": [
    "range() :- This function is used to create a sequence of numbers.\n",
    "syntax :- range([start],stop,[step])\n",
    "It accepts an integers.The sequence is starts with 0,by default,unless the [start] parameter is provided.\n",
    "The only mandatory parameter for the range() function is stop.The last number is the sequence is the number before stop.\n",
    "The number in between are incremented with [step] value,which is 1 by default."
   ]
  },
  {
   "cell_type": "code",
   "execution_count": 14,
   "metadata": {},
   "outputs": [
    {
     "name": "stdout",
     "output_type": "stream",
     "text": [
      "1\n",
      "4\n",
      "9\n",
      "16\n",
      "25\n",
      "36\n",
      "49\n",
      "64\n",
      "81\n",
      "100\n"
     ]
    }
   ],
   "source": [
    "#Program to print square of 1 to 10 numbers by using range function\n",
    "for i in range(1,11):  #The last number is the sequence is the number before stop.\n",
    "    print(i*i)"
   ]
  },
  {
   "cell_type": "markdown",
   "metadata": {},
   "source": [
    "Question 3: Consider two no's.Perform their substraction and if the result of substraction is greater than 25,print their multiplication result else print their division result."
   ]
  },
  {
   "cell_type": "code",
   "execution_count": 16,
   "metadata": {},
   "outputs": [
    {
     "name": "stdout",
     "output_type": "stream",
     "text": [
      "Less than 25 then Division of no's  100 & 80 is:  1.25\n"
     ]
    }
   ],
   "source": [
    "a = 100\n",
    "b = 80\n",
    "if a - b > 25:\n",
    "    print(\"Greater than 25 then Multipliction of no's \",a,\"&\",b,\"is: \",a*b)\n",
    "else:\n",
    "    print(\"Less than 25 then Division of no's \",a,\"&\",b,\"is: \",a/b)"
   ]
  },
  {
   "cell_type": "markdown",
   "metadata": {},
   "source": [
    "Question 4: Consider a list of 10 elements of interger values.If the number in the list is divisible by 2,print the result as \"square of that number minus 2\"."
   ]
  },
  {
   "cell_type": "code",
   "execution_count": 30,
   "metadata": {},
   "outputs": [
    {
     "name": "stdout",
     "output_type": "stream",
     "text": [
      "Square of 46  minus 2 is:  2114\n",
      "Square of 40  minus 2 is:  1598\n",
      "Square of 26  minus 2 is:  674\n",
      "Square of 10  minus 2 is:  98\n",
      "Square of 36  minus 2 is:  1294\n",
      "Square of 90  minus 2 is:  8098\n",
      "Square of 84  minus 2 is:  7054\n",
      "Square of 50  minus 2 is:  2498\n"
     ]
    }
   ],
   "source": [
    "lst = [46,57,25,40,26,10,36,90,84,50]\n",
    "for i in lst:\n",
    "    if i % 2 == 0:\n",
    "        print(\"Square of\",i,\" minus 2 is: \",i*i-2)"
   ]
  },
  {
   "cell_type": "markdown",
   "metadata": {},
   "source": [
    "Question 5:Consider a list of 10 elements.print all the elements in the list which are greater than 7 when that number is divided by 2."
   ]
  },
  {
   "cell_type": "code",
   "execution_count": 32,
   "metadata": {},
   "outputs": [
    {
     "name": "stdout",
     "output_type": "stream",
     "text": [
      "46\n",
      "18\n",
      "20\n",
      "26\n",
      "10\n",
      "84\n",
      "50\n"
     ]
    }
   ],
   "source": [
    "lst = [46,18,25,20,26,10,77,5,84,50]\n",
    "for i in lst:\n",
    "    if i % 2 == 0 and i > 7:\n",
    "        print(i)"
   ]
  },
  {
   "cell_type": "markdown",
   "metadata": {},
   "source": [
    "Thank You!!!"
   ]
  },
  {
   "cell_type": "code",
   "execution_count": null,
   "metadata": {},
   "outputs": [],
   "source": []
  }
 ],
 "metadata": {
  "kernelspec": {
   "display_name": "Python 3",
   "language": "python",
   "name": "python3"
  },
  "language_info": {
   "codemirror_mode": {
    "name": "ipython",
    "version": 3
   },
   "file_extension": ".py",
   "mimetype": "text/x-python",
   "name": "python",
   "nbconvert_exporter": "python",
   "pygments_lexer": "ipython3",
   "version": "3.7.6"
  }
 },
 "nbformat": 4,
 "nbformat_minor": 4
}
